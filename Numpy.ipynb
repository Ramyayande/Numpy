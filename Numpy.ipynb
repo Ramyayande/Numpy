{
 "cells": [
  {
   "cell_type": "markdown",
   "id": "c29b5a69",
   "metadata": {},
   "source": [
    "# Numpy"
   ]
  },
  {
   "cell_type": "markdown",
   "id": "f7713a4d",
   "metadata": {},
   "source": [
    "## The NumPy library is the core library for scientific computing in Python. It provides a high-performance multidimensional array object, and tools for working with these arrays"
   ]
  },
  {
   "cell_type": "markdown",
   "id": "503278b0",
   "metadata": {},
   "source": [
    "### Use the following import convention:"
   ]
  },
  {
   "cell_type": "code",
   "execution_count": 1,
   "id": "096a74a9",
   "metadata": {},
   "outputs": [],
   "source": [
    "import numpy as np"
   ]
  },
  {
   "cell_type": "markdown",
   "id": "36e07a5a",
   "metadata": {},
   "source": [
    "## Numpy Array\n",
    "1D Array  axis = 0\n",
    "2D Array axis = 0, axis = 1\n",
    "3D Array axis = 0, axis = 1, axis = 2"
   ]
  },
  {
   "cell_type": "markdown",
   "id": "c80ba6b4",
   "metadata": {},
   "source": [
    "## Creating Arrays"
   ]
  },
  {
   "cell_type": "code",
   "execution_count": 2,
   "id": "b56e59c7",
   "metadata": {},
   "outputs": [
    {
     "data": {
      "text/plain": [
       "array([1, 2, 3])"
      ]
     },
     "execution_count": 2,
     "metadata": {},
     "output_type": "execute_result"
    }
   ],
   "source": [
    "a1 = np.array([1,2,3])\n",
    "a1"
   ]
  },
  {
   "cell_type": "code",
   "execution_count": 3,
   "id": "86b3ca4a",
   "metadata": {},
   "outputs": [
    {
     "data": {
      "text/plain": [
       "array([[2., 3., 4.],\n",
       "       [6., 7., 8.]])"
      ]
     },
     "execution_count": 3,
     "metadata": {},
     "output_type": "execute_result"
    }
   ],
   "source": [
    "b1 = np.array([(2,3,4), (6,7,8)], dtype = float)\n",
    "b1"
   ]
  },
  {
   "cell_type": "code",
   "execution_count": 4,
   "id": "4d54c760",
   "metadata": {},
   "outputs": [
    {
     "data": {
      "text/plain": [
       "array([[2., 3., 4.],\n",
       "       [6., 7., 8.]])"
      ]
     },
     "execution_count": 4,
     "metadata": {},
     "output_type": "execute_result"
    }
   ],
   "source": [
    "b1 = np.array([[2,3,4], [6,7,8]], dtype = float)\n",
    "b1"
   ]
  },
  {
   "cell_type": "code",
   "execution_count": 5,
   "id": "612c4b87",
   "metadata": {},
   "outputs": [
    {
     "data": {
      "text/plain": [
       "array([[ 3, 34, 45],\n",
       "       [66, 78, 86],\n",
       "       [23, 54, 68]])"
      ]
     },
     "execution_count": 5,
     "metadata": {},
     "output_type": "execute_result"
    }
   ],
   "source": [
    "c1 = np.array([[3,34,45], [66,78,86], [23,54,68]])\n",
    "c1"
   ]
  },
  {
   "cell_type": "markdown",
   "id": "82359a9b",
   "metadata": {},
   "source": [
    "# Create an array of zeros"
   ]
  },
  {
   "cell_type": "code",
   "execution_count": 6,
   "id": "ce18cb51",
   "metadata": {},
   "outputs": [
    {
     "data": {
      "text/plain": [
       "array([[0., 0., 0., 0.],\n",
       "       [0., 0., 0., 0.],\n",
       "       [0., 0., 0., 0.]])"
      ]
     },
     "execution_count": 6,
     "metadata": {},
     "output_type": "execute_result"
    }
   ],
   "source": [
    "np.zeros((3,4))"
   ]
  },
  {
   "cell_type": "code",
   "execution_count": 7,
   "id": "64069c3c",
   "metadata": {},
   "outputs": [
    {
     "data": {
      "text/plain": [
       "array([0., 0., 0.])"
      ]
     },
     "execution_count": 7,
     "metadata": {},
     "output_type": "execute_result"
    }
   ],
   "source": [
    "np.zeros(3)"
   ]
  },
  {
   "cell_type": "code",
   "execution_count": 8,
   "id": "792dda77",
   "metadata": {},
   "outputs": [
    {
     "data": {
      "text/plain": [
       "array([[0., 0., 0., 0.],\n",
       "       [0., 0., 0., 0.],\n",
       "       [0., 0., 0., 0.]])"
      ]
     },
     "execution_count": 8,
     "metadata": {},
     "output_type": "execute_result"
    }
   ],
   "source": [
    "np.zeros([3,4])"
   ]
  },
  {
   "cell_type": "code",
   "execution_count": 9,
   "id": "2ffe3770",
   "metadata": {},
   "outputs": [
    {
     "data": {
      "text/plain": [
       "array([[0, 0, 0],\n",
       "       [0, 0, 0]])"
      ]
     },
     "execution_count": 9,
     "metadata": {},
     "output_type": "execute_result"
    }
   ],
   "source": [
    "np.zeros([2,3], dtype=int)"
   ]
  },
  {
   "cell_type": "markdown",
   "id": "dec2d1c7",
   "metadata": {},
   "source": [
    "###  Create an array of ones"
   ]
  },
  {
   "cell_type": "code",
   "execution_count": 10,
   "id": "134533bc",
   "metadata": {},
   "outputs": [
    {
     "data": {
      "text/plain": [
       "array([[1., 1., 1.],\n",
       "       [1., 1., 1.]])"
      ]
     },
     "execution_count": 10,
     "metadata": {},
     "output_type": "execute_result"
    }
   ],
   "source": [
    "np.ones([2,3])"
   ]
  },
  {
   "cell_type": "code",
   "execution_count": 11,
   "id": "2a1c3779",
   "metadata": {},
   "outputs": [
    {
     "data": {
      "text/plain": [
       "array([[1., 1., 1., 1.],\n",
       "       [1., 1., 1., 1.],\n",
       "       [1., 1., 1., 1.]])"
      ]
     },
     "execution_count": 11,
     "metadata": {},
     "output_type": "execute_result"
    }
   ],
   "source": [
    "np.ones([3,4])"
   ]
  },
  {
   "cell_type": "code",
   "execution_count": 12,
   "id": "fec4be72",
   "metadata": {},
   "outputs": [
    {
     "data": {
      "text/plain": [
       "array([1., 1., 1.])"
      ]
     },
     "execution_count": 12,
     "metadata": {},
     "output_type": "execute_result"
    }
   ],
   "source": [
    "np.ones(3)"
   ]
  },
  {
   "cell_type": "markdown",
   "id": "5744e82d",
   "metadata": {},
   "source": [
    "### Create an array of evenly spaced values (step values)"
   ]
  },
  {
   "cell_type": "code",
   "execution_count": 13,
   "id": "9043373e",
   "metadata": {},
   "outputs": [
    {
     "data": {
      "text/plain": [
       "array([2, 4, 6, 8])"
      ]
     },
     "execution_count": 13,
     "metadata": {},
     "output_type": "execute_result"
    }
   ],
   "source": [
    "a = np.arange(2,10,2)\n",
    "a"
   ]
  },
  {
   "cell_type": "code",
   "execution_count": 14,
   "id": "b33f5ea7",
   "metadata": {},
   "outputs": [
    {
     "data": {
      "text/plain": [
       "array([1, 3, 5, 7, 9])"
      ]
     },
     "execution_count": 14,
     "metadata": {},
     "output_type": "execute_result"
    }
   ],
   "source": [
    "b = np.arange(1,10,2)\n",
    "b"
   ]
  },
  {
   "cell_type": "markdown",
   "id": "89260961",
   "metadata": {},
   "source": [
    "### Create an array of evenly spaced values (number of samples)"
   ]
  },
  {
   "cell_type": "code",
   "execution_count": 15,
   "id": "4e738029",
   "metadata": {},
   "outputs": [
    {
     "data": {
      "text/plain": [
       "array([0.  , 0.25, 0.5 , 0.75, 1.  , 1.25, 1.5 , 1.75, 2.  ])"
      ]
     },
     "execution_count": 15,
     "metadata": {},
     "output_type": "execute_result"
    }
   ],
   "source": [
    "np.linspace(0,2,9)"
   ]
  },
  {
   "cell_type": "code",
   "execution_count": 16,
   "id": "89225bcb",
   "metadata": {},
   "outputs": [
    {
     "data": {
      "text/plain": [
       "array([ 1.        ,  1.28571429,  1.57142857,  1.85714286,  2.14285714,\n",
       "        2.42857143,  2.71428571,  3.        ,  3.28571429,  3.57142857,\n",
       "        3.85714286,  4.14285714,  4.42857143,  4.71428571,  5.        ,\n",
       "        5.28571429,  5.57142857,  5.85714286,  6.14285714,  6.42857143,\n",
       "        6.71428571,  7.        ,  7.28571429,  7.57142857,  7.85714286,\n",
       "        8.14285714,  8.42857143,  8.71428571,  9.        ,  9.28571429,\n",
       "        9.57142857,  9.85714286, 10.14285714, 10.42857143, 10.71428571,\n",
       "       11.        , 11.28571429, 11.57142857, 11.85714286, 12.14285714,\n",
       "       12.42857143, 12.71428571, 13.        , 13.28571429, 13.57142857,\n",
       "       13.85714286, 14.14285714, 14.42857143, 14.71428571, 15.        ])"
      ]
     },
     "execution_count": 16,
     "metadata": {},
     "output_type": "execute_result"
    }
   ],
   "source": [
    "np.linspace(1,15)"
   ]
  },
  {
   "cell_type": "code",
   "execution_count": 17,
   "id": "a6b8cef2",
   "metadata": {},
   "outputs": [
    {
     "data": {
      "text/plain": [
       "array([ 1. , 10.5, 20. ])"
      ]
     },
     "execution_count": 17,
     "metadata": {},
     "output_type": "execute_result"
    }
   ],
   "source": [
    "np.linspace(1,20,3)"
   ]
  },
  {
   "cell_type": "markdown",
   "id": "a04532d9",
   "metadata": {},
   "source": [
    "### Create a constant array"
   ]
  },
  {
   "cell_type": "code",
   "execution_count": 18,
   "id": "a4d2bca1",
   "metadata": {},
   "outputs": [
    {
     "data": {
      "text/plain": [
       "array([[7, 7],\n",
       "       [7, 7]])"
      ]
     },
     "execution_count": 18,
     "metadata": {},
     "output_type": "execute_result"
    }
   ],
   "source": [
    "c = np.full((2,2),7)\n",
    "c"
   ]
  },
  {
   "cell_type": "code",
   "execution_count": 19,
   "id": "52bdf319",
   "metadata": {},
   "outputs": [
    {
     "data": {
      "text/plain": [
       "array([[8, 8, 8, 8],\n",
       "       [8, 8, 8, 8],\n",
       "       [8, 8, 8, 8],\n",
       "       [8, 8, 8, 8]])"
      ]
     },
     "execution_count": 19,
     "metadata": {},
     "output_type": "execute_result"
    }
   ],
   "source": [
    "d = np.full((4,4), 8)\n",
    "d"
   ]
  },
  {
   "cell_type": "markdown",
   "id": "c8096b0e",
   "metadata": {},
   "source": [
    "### Create a 2X2 identity matrix"
   ]
  },
  {
   "cell_type": "code",
   "execution_count": 20,
   "id": "487ef6c1",
   "metadata": {},
   "outputs": [
    {
     "data": {
      "text/plain": [
       "array([[1., 0., 0., 0., 0.],\n",
       "       [0., 1., 0., 0., 0.],\n",
       "       [0., 0., 1., 0., 0.],\n",
       "       [0., 0., 0., 1., 0.],\n",
       "       [0., 0., 0., 0., 1.]])"
      ]
     },
     "execution_count": 20,
     "metadata": {},
     "output_type": "execute_result"
    }
   ],
   "source": [
    "e = np.eye(5)\n",
    "e"
   ]
  },
  {
   "cell_type": "code",
   "execution_count": 21,
   "id": "9f3a25b8",
   "metadata": {},
   "outputs": [
    {
     "data": {
      "text/plain": [
       "array([[1., 0., 0., 0., 0.],\n",
       "       [0., 1., 0., 0., 0.],\n",
       "       [0., 0., 1., 0., 0.],\n",
       "       [0., 0., 0., 1., 0.],\n",
       "       [0., 0., 0., 0., 1.]])"
      ]
     },
     "execution_count": 21,
     "metadata": {},
     "output_type": "execute_result"
    }
   ],
   "source": [
    "np.eye(5,5)"
   ]
  },
  {
   "cell_type": "markdown",
   "id": "4091bc4c",
   "metadata": {},
   "source": [
    "### Create an array with random values"
   ]
  },
  {
   "cell_type": "code",
   "execution_count": 22,
   "id": "0d5e7a00",
   "metadata": {},
   "outputs": [
    {
     "data": {
      "text/plain": [
       "array([[0.8061898 , 0.84633411],\n",
       "       [0.48738241, 0.94209482]])"
      ]
     },
     "execution_count": 22,
     "metadata": {},
     "output_type": "execute_result"
    }
   ],
   "source": [
    "np.random.random((2,2))"
   ]
  },
  {
   "cell_type": "code",
   "execution_count": 23,
   "id": "a7b4bd9d",
   "metadata": {},
   "outputs": [
    {
     "data": {
      "text/plain": [
       "array([[0.92035209, 0.58959836, 0.84789844, 0.8933382 , 0.54693751],\n",
       "       [0.91729628, 0.61334978, 0.55184248, 0.8756318 , 0.82001243],\n",
       "       [0.53268977, 0.29085022, 0.59455233, 0.44561157, 0.4963865 ],\n",
       "       [0.34748339, 0.49531915, 0.15357996, 0.90156207, 0.54184512]])"
      ]
     },
     "execution_count": 23,
     "metadata": {},
     "output_type": "execute_result"
    }
   ],
   "source": [
    "np.random.random((4,5))"
   ]
  },
  {
   "cell_type": "markdown",
   "id": "919c620d",
   "metadata": {},
   "source": [
    "### Create an empty array"
   ]
  },
  {
   "cell_type": "code",
   "execution_count": 24,
   "id": "271e6de7",
   "metadata": {},
   "outputs": [
    {
     "data": {
      "text/plain": [
       "array([[1., 1., 1.],\n",
       "       [1., 1., 1.]])"
      ]
     },
     "execution_count": 24,
     "metadata": {},
     "output_type": "execute_result"
    }
   ],
   "source": [
    "np.empty((2,3))"
   ]
  },
  {
   "cell_type": "code",
   "execution_count": 25,
   "id": "263a83ba",
   "metadata": {},
   "outputs": [
    {
     "data": {
      "text/plain": [
       "array([[0.92035209, 0.58959836, 0.84789844, 0.8933382 , 0.54693751],\n",
       "       [0.91729628, 0.61334978, 0.55184248, 0.8756318 , 0.82001243],\n",
       "       [0.53268977, 0.29085022, 0.59455233, 0.44561157, 0.4963865 ],\n",
       "       [0.34748339, 0.49531915, 0.15357996, 0.90156207, 0.54184512]])"
      ]
     },
     "execution_count": 25,
     "metadata": {},
     "output_type": "execute_result"
    }
   ],
   "source": [
    "np.empty((4,5))"
   ]
  },
  {
   "cell_type": "markdown",
   "id": "d4719722",
   "metadata": {},
   "source": [
    "# Input/Output"
   ]
  },
  {
   "cell_type": "markdown",
   "id": "daef37f5",
   "metadata": {},
   "source": [
    "## Saving & Loading On Disk"
   ]
  },
  {
   "cell_type": "code",
   "execution_count": 26,
   "id": "41c877c4",
   "metadata": {},
   "outputs": [],
   "source": [
    "# np.save('my_array', a)\n",
    "# np.savez('array.npz', a, b)\n",
    "# np.load('my_array.npy')"
   ]
  },
  {
   "cell_type": "code",
   "execution_count": 27,
   "id": "487b672d",
   "metadata": {},
   "outputs": [],
   "source": [
    "np.save(\"my_array\", a)"
   ]
  },
  {
   "cell_type": "code",
   "execution_count": 28,
   "id": "8dc9a035",
   "metadata": {},
   "outputs": [],
   "source": [
    "np.savez('my_name.npz', a,b)"
   ]
  },
  {
   "cell_type": "code",
   "execution_count": 29,
   "id": "9ebdb655",
   "metadata": {},
   "outputs": [],
   "source": [
    "np.savez('file_name', a, b)"
   ]
  },
  {
   "cell_type": "code",
   "execution_count": 30,
   "id": "fd38ce0f",
   "metadata": {},
   "outputs": [],
   "source": [
    "# np.load('file_name.npy')"
   ]
  },
  {
   "cell_type": "code",
   "execution_count": 31,
   "id": "31c62165",
   "metadata": {},
   "outputs": [
    {
     "data": {
      "text/plain": [
       "array([2, 4, 6, 8])"
      ]
     },
     "execution_count": 31,
     "metadata": {},
     "output_type": "execute_result"
    }
   ],
   "source": [
    "np.load('my_array.npy')"
   ]
  },
  {
   "cell_type": "markdown",
   "id": "392e498e",
   "metadata": {},
   "source": [
    "### Saving & Loading Text Files"
   ]
  },
  {
   "cell_type": "code",
   "execution_count": 32,
   "id": "a06e53a4",
   "metadata": {},
   "outputs": [],
   "source": [
    "# > np.loadtxt(\"myfile.txt\")\n",
    "# >>> np.genfromtxt(\"my_file.csv\", delimiter=',')\n",
    "# >>> np.savetxt(\"myarray.txt\", a, delimiter=\" \")"
   ]
  },
  {
   "cell_type": "code",
   "execution_count": 33,
   "id": "0769e301",
   "metadata": {},
   "outputs": [],
   "source": [
    "# np.loadtxt(\"myfile.txt\")"
   ]
  },
  {
   "cell_type": "code",
   "execution_count": 34,
   "id": "0f8ea470",
   "metadata": {},
   "outputs": [],
   "source": [
    "np.savetxt(\"myarray.txt\", a, delimiter = '')"
   ]
  },
  {
   "cell_type": "code",
   "execution_count": 35,
   "id": "08213fe0",
   "metadata": {},
   "outputs": [],
   "source": [
    "# np.genfromtxt(\"filename.csv\", delimiter = ',')"
   ]
  },
  {
   "cell_type": "markdown",
   "id": "bebcd386",
   "metadata": {},
   "source": [
    "# Data Types"
   ]
  },
  {
   "cell_type": "markdown",
   "id": "0ad5b30f",
   "metadata": {},
   "source": [
    "### Signed 64-bit integer types"
   ]
  },
  {
   "cell_type": "code",
   "execution_count": 36,
   "id": "6584cae8",
   "metadata": {},
   "outputs": [
    {
     "data": {
      "text/plain": [
       "numpy.int64"
      ]
     },
     "execution_count": 36,
     "metadata": {},
     "output_type": "execute_result"
    }
   ],
   "source": [
    "np.int64"
   ]
  },
  {
   "cell_type": "code",
   "execution_count": 37,
   "id": "670b485c",
   "metadata": {},
   "outputs": [
    {
     "name": "stderr",
     "output_type": "stream",
     "text": [
      "C:\\Users\\ramya.yande\\AppData\\Local\\Temp\\ipykernel_24084\\1249397564.py:1: DeprecationWarning: `np.int` is a deprecated alias for the builtin `int`. To silence this warning, use `int` by itself. Doing this will not modify any behavior and is safe. When replacing `np.int`, you may wish to use e.g. `np.int64` or `np.int32` to specify the precision. If you wish to review your current use, check the release note link for additional information.\n",
      "Deprecated in NumPy 1.20; for more details and guidance: https://numpy.org/devdocs/release/1.20.0-notes.html#deprecations\n",
      "  np.int(64)\n"
     ]
    },
    {
     "data": {
      "text/plain": [
       "64"
      ]
     },
     "execution_count": 37,
     "metadata": {},
     "output_type": "execute_result"
    }
   ],
   "source": [
    "np.int(64)"
   ]
  },
  {
   "cell_type": "code",
   "execution_count": 38,
   "id": "74cebf74",
   "metadata": {},
   "outputs": [],
   "source": [
    "# np.int44"
   ]
  },
  {
   "cell_type": "markdown",
   "id": "4bcf9cbc",
   "metadata": {},
   "source": [
    "### Standard double-precision floating point"
   ]
  },
  {
   "cell_type": "code",
   "execution_count": 39,
   "id": "bc47255b",
   "metadata": {},
   "outputs": [
    {
     "data": {
      "text/plain": [
       "numpy.float32"
      ]
     },
     "execution_count": 39,
     "metadata": {},
     "output_type": "execute_result"
    }
   ],
   "source": [
    "np.float32"
   ]
  },
  {
   "cell_type": "code",
   "execution_count": 40,
   "id": "91a421b4",
   "metadata": {},
   "outputs": [
    {
     "name": "stderr",
     "output_type": "stream",
     "text": [
      "C:\\Users\\ramya.yande\\AppData\\Local\\Temp\\ipykernel_24084\\1181887926.py:1: DeprecationWarning: `np.float` is a deprecated alias for the builtin `float`. To silence this warning, use `float` by itself. Doing this will not modify any behavior and is safe. If you specifically wanted the numpy scalar type, use `np.float64` here.\n",
      "Deprecated in NumPy 1.20; for more details and guidance: https://numpy.org/devdocs/release/1.20.0-notes.html#deprecations\n",
      "  np.float(34.56)\n"
     ]
    },
    {
     "data": {
      "text/plain": [
       "34.56"
      ]
     },
     "execution_count": 40,
     "metadata": {},
     "output_type": "execute_result"
    }
   ],
   "source": [
    "np.float(34.56)"
   ]
  },
  {
   "cell_type": "code",
   "execution_count": 41,
   "id": "6005795e",
   "metadata": {},
   "outputs": [],
   "source": [
    "# np.float34.5"
   ]
  },
  {
   "cell_type": "markdown",
   "id": "a578a539",
   "metadata": {},
   "source": [
    "### Complex numbers represented by 128 floats"
   ]
  },
  {
   "cell_type": "code",
   "execution_count": 42,
   "id": "86795c0c",
   "metadata": {},
   "outputs": [
    {
     "name": "stderr",
     "output_type": "stream",
     "text": [
      "C:\\Users\\ramya.yande\\AppData\\Local\\Temp\\ipykernel_24084\\82300521.py:1: DeprecationWarning: `np.complex` is a deprecated alias for the builtin `complex`. To silence this warning, use `complex` by itself. Doing this will not modify any behavior and is safe. If you specifically wanted the numpy scalar type, use `np.complex128` here.\n",
      "Deprecated in NumPy 1.20; for more details and guidance: https://numpy.org/devdocs/release/1.20.0-notes.html#deprecations\n",
      "  np.complex\n"
     ]
    },
    {
     "data": {
      "text/plain": [
       "complex"
      ]
     },
     "execution_count": 42,
     "metadata": {},
     "output_type": "execute_result"
    }
   ],
   "source": [
    "np.complex"
   ]
  },
  {
   "cell_type": "markdown",
   "id": "a65fff91",
   "metadata": {},
   "source": [
    "### Boolean type storing TRUE and FALSE values"
   ]
  },
  {
   "cell_type": "code",
   "execution_count": 43,
   "id": "fb883daa",
   "metadata": {},
   "outputs": [
    {
     "name": "stderr",
     "output_type": "stream",
     "text": [
      "C:\\Users\\ramya.yande\\AppData\\Local\\Temp\\ipykernel_24084\\3526611434.py:1: DeprecationWarning: `np.bool` is a deprecated alias for the builtin `bool`. To silence this warning, use `bool` by itself. Doing this will not modify any behavior and is safe. If you specifically wanted the numpy scalar type, use `np.bool_` here.\n",
      "Deprecated in NumPy 1.20; for more details and guidance: https://numpy.org/devdocs/release/1.20.0-notes.html#deprecations\n",
      "  np.bool\n"
     ]
    },
    {
     "data": {
      "text/plain": [
       "bool"
      ]
     },
     "execution_count": 43,
     "metadata": {},
     "output_type": "execute_result"
    }
   ],
   "source": [
    "np.bool"
   ]
  },
  {
   "cell_type": "markdown",
   "id": "847fe0c1",
   "metadata": {},
   "source": [
    "### Python object type"
   ]
  },
  {
   "cell_type": "code",
   "execution_count": 44,
   "id": "b4f0d5a4",
   "metadata": {},
   "outputs": [
    {
     "name": "stderr",
     "output_type": "stream",
     "text": [
      "C:\\Users\\ramya.yande\\AppData\\Local\\Temp\\ipykernel_24084\\1847956310.py:1: DeprecationWarning: `np.object` is a deprecated alias for the builtin `object`. To silence this warning, use `object` by itself. Doing this will not modify any behavior and is safe. \n",
      "Deprecated in NumPy 1.20; for more details and guidance: https://numpy.org/devdocs/release/1.20.0-notes.html#deprecations\n",
      "  np.object\n"
     ]
    },
    {
     "data": {
      "text/plain": [
       "object"
      ]
     },
     "execution_count": 44,
     "metadata": {},
     "output_type": "execute_result"
    }
   ],
   "source": [
    "np.object"
   ]
  },
  {
   "cell_type": "markdown",
   "id": "1e4f0bad",
   "metadata": {},
   "source": [
    "### Fixed-length string type"
   ]
  },
  {
   "cell_type": "code",
   "execution_count": 45,
   "id": "ce363068",
   "metadata": {},
   "outputs": [
    {
     "data": {
      "text/plain": [
       "numpy.bytes_"
      ]
     },
     "execution_count": 45,
     "metadata": {},
     "output_type": "execute_result"
    }
   ],
   "source": [
    "np.string_"
   ]
  },
  {
   "cell_type": "code",
   "execution_count": 46,
   "id": "05947bf2",
   "metadata": {},
   "outputs": [],
   "source": [
    "# np.string"
   ]
  },
  {
   "cell_type": "markdown",
   "id": "d93a785f",
   "metadata": {},
   "source": [
    "### Fixed-length unicode type"
   ]
  },
  {
   "cell_type": "code",
   "execution_count": 47,
   "id": "aef72364",
   "metadata": {},
   "outputs": [
    {
     "name": "stderr",
     "output_type": "stream",
     "text": [
      "C:\\Users\\ramya.yande\\AppData\\Local\\Temp\\ipykernel_24084\\1267029257.py:1: DeprecationWarning: `np.unicode` is a deprecated alias for `np.compat.unicode`. To silence this warning, use `np.compat.unicode` by itself. In the likely event your code does not need to work on Python 2 you can use the builtin `str` for which `np.compat.unicode` is itself an alias. Doing this will not modify any behaviour and is safe. If you specifically wanted the numpy scalar type, use `np.str_` here.\n",
      "Deprecated in NumPy 1.20; for more details and guidance: https://numpy.org/devdocs/release/1.20.0-notes.html#deprecations\n",
      "  np.unicode\n"
     ]
    },
    {
     "data": {
      "text/plain": [
       "str"
      ]
     },
     "execution_count": 47,
     "metadata": {},
     "output_type": "execute_result"
    }
   ],
   "source": [
    "np.unicode"
   ]
  },
  {
   "cell_type": "code",
   "execution_count": 48,
   "id": "85156e6f",
   "metadata": {},
   "outputs": [
    {
     "data": {
      "text/plain": [
       "numpy.str_"
      ]
     },
     "execution_count": 48,
     "metadata": {},
     "output_type": "execute_result"
    }
   ],
   "source": [
    "np.unicode_"
   ]
  },
  {
   "cell_type": "markdown",
   "id": "03b115a6",
   "metadata": {},
   "source": [
    "# Inspecting Your Array"
   ]
  },
  {
   "cell_type": "markdown",
   "id": "479c5c50",
   "metadata": {},
   "source": [
    "### Array dimensions"
   ]
  },
  {
   "cell_type": "code",
   "execution_count": 49,
   "id": "c273b4e6",
   "metadata": {},
   "outputs": [
    {
     "data": {
      "text/plain": [
       "array([1, 2, 3])"
      ]
     },
     "execution_count": 49,
     "metadata": {},
     "output_type": "execute_result"
    }
   ],
   "source": [
    "a1"
   ]
  },
  {
   "cell_type": "code",
   "execution_count": 50,
   "id": "58899ea3",
   "metadata": {},
   "outputs": [
    {
     "data": {
      "text/plain": [
       "array([[2., 3., 4.],\n",
       "       [6., 7., 8.]])"
      ]
     },
     "execution_count": 50,
     "metadata": {},
     "output_type": "execute_result"
    }
   ],
   "source": [
    "b1"
   ]
  },
  {
   "cell_type": "code",
   "execution_count": 51,
   "id": "54d598ea",
   "metadata": {},
   "outputs": [
    {
     "data": {
      "text/plain": [
       "(3,)"
      ]
     },
     "execution_count": 51,
     "metadata": {},
     "output_type": "execute_result"
    }
   ],
   "source": [
    "a1.shape"
   ]
  },
  {
   "cell_type": "code",
   "execution_count": 52,
   "id": "22034187",
   "metadata": {},
   "outputs": [
    {
     "data": {
      "text/plain": [
       "(2, 3)"
      ]
     },
     "execution_count": 52,
     "metadata": {},
     "output_type": "execute_result"
    }
   ],
   "source": [
    "b1.shape"
   ]
  },
  {
   "cell_type": "markdown",
   "id": "9bef8a86",
   "metadata": {},
   "source": [
    "### Length of array "
   ]
  },
  {
   "cell_type": "code",
   "execution_count": 53,
   "id": "60a41b43",
   "metadata": {},
   "outputs": [
    {
     "data": {
      "text/plain": [
       "3"
      ]
     },
     "execution_count": 53,
     "metadata": {},
     "output_type": "execute_result"
    }
   ],
   "source": [
    "len(a1)"
   ]
  },
  {
   "cell_type": "code",
   "execution_count": 54,
   "id": "49036112",
   "metadata": {},
   "outputs": [
    {
     "data": {
      "text/plain": [
       "2"
      ]
     },
     "execution_count": 54,
     "metadata": {},
     "output_type": "execute_result"
    }
   ],
   "source": [
    "len(b1)"
   ]
  },
  {
   "cell_type": "markdown",
   "id": "3ac9d714",
   "metadata": {},
   "source": [
    "### Number of array dimensions "
   ]
  },
  {
   "cell_type": "code",
   "execution_count": 55,
   "id": "30d561eb",
   "metadata": {},
   "outputs": [
    {
     "data": {
      "text/plain": [
       "<function numpy.ndim(a)>"
      ]
     },
     "execution_count": 55,
     "metadata": {},
     "output_type": "execute_result"
    }
   ],
   "source": [
    "np.ndim"
   ]
  },
  {
   "cell_type": "code",
   "execution_count": 56,
   "id": "53894c75",
   "metadata": {},
   "outputs": [
    {
     "data": {
      "text/plain": [
       "array([[54, 56, 34, 78],\n",
       "       [23, 65, 78,  4],\n",
       "       [31, 14, 68, 45],\n",
       "       [12, 56, 34, 34]])"
      ]
     },
     "execution_count": 56,
     "metadata": {},
     "output_type": "execute_result"
    }
   ],
   "source": [
    "d1 = np.array([(54,56,34,78), (23,65,78,4), (31,14,68,45), (12,56,34,34)])\n",
    "d1"
   ]
  },
  {
   "cell_type": "code",
   "execution_count": 57,
   "id": "d5fb6fa1",
   "metadata": {},
   "outputs": [
    {
     "data": {
      "text/plain": [
       "2"
      ]
     },
     "execution_count": 57,
     "metadata": {},
     "output_type": "execute_result"
    }
   ],
   "source": [
    "d1.ndim"
   ]
  },
  {
   "cell_type": "code",
   "execution_count": 58,
   "id": "3b75d13c",
   "metadata": {},
   "outputs": [
    {
     "data": {
      "text/plain": [
       "1"
      ]
     },
     "execution_count": 58,
     "metadata": {},
     "output_type": "execute_result"
    }
   ],
   "source": [
    "a.ndim"
   ]
  },
  {
   "cell_type": "code",
   "execution_count": 59,
   "id": "4209997b",
   "metadata": {},
   "outputs": [
    {
     "data": {
      "text/plain": [
       "1"
      ]
     },
     "execution_count": 59,
     "metadata": {},
     "output_type": "execute_result"
    }
   ],
   "source": [
    "a1.ndim"
   ]
  },
  {
   "cell_type": "code",
   "execution_count": 60,
   "id": "f4840d68",
   "metadata": {},
   "outputs": [
    {
     "data": {
      "text/plain": [
       "2"
      ]
     },
     "execution_count": 60,
     "metadata": {},
     "output_type": "execute_result"
    }
   ],
   "source": [
    "b1.ndim"
   ]
  },
  {
   "cell_type": "code",
   "execution_count": 61,
   "id": "f98092ad",
   "metadata": {},
   "outputs": [
    {
     "data": {
      "text/plain": [
       "2"
      ]
     },
     "execution_count": 61,
     "metadata": {},
     "output_type": "execute_result"
    }
   ],
   "source": [
    "c1.ndim"
   ]
  },
  {
   "cell_type": "code",
   "execution_count": 62,
   "id": "67c33967",
   "metadata": {},
   "outputs": [
    {
     "data": {
      "text/plain": [
       "1"
      ]
     },
     "execution_count": 62,
     "metadata": {},
     "output_type": "execute_result"
    }
   ],
   "source": [
    "b.ndim"
   ]
  },
  {
   "cell_type": "code",
   "execution_count": 63,
   "id": "be768c70",
   "metadata": {},
   "outputs": [
    {
     "data": {
      "text/plain": [
       "1"
      ]
     },
     "execution_count": 63,
     "metadata": {},
     "output_type": "execute_result"
    }
   ],
   "source": [
    "np.ndim(a1)"
   ]
  },
  {
   "cell_type": "code",
   "execution_count": 64,
   "id": "6acd0757",
   "metadata": {},
   "outputs": [
    {
     "data": {
      "text/plain": [
       "2"
      ]
     },
     "execution_count": 64,
     "metadata": {},
     "output_type": "execute_result"
    }
   ],
   "source": [
    "np.ndim(b1)"
   ]
  },
  {
   "cell_type": "code",
   "execution_count": 65,
   "id": "891ca739",
   "metadata": {},
   "outputs": [
    {
     "data": {
      "text/plain": [
       "array([2, 4, 6, 8])"
      ]
     },
     "execution_count": 65,
     "metadata": {},
     "output_type": "execute_result"
    }
   ],
   "source": [
    "e = np.arange(2,10,2)\n",
    "e"
   ]
  },
  {
   "cell_type": "code",
   "execution_count": 66,
   "id": "586db800",
   "metadata": {},
   "outputs": [
    {
     "data": {
      "text/plain": [
       "array([0, 1, 2, 3, 4, 5])"
      ]
     },
     "execution_count": 66,
     "metadata": {},
     "output_type": "execute_result"
    }
   ],
   "source": [
    "g = np.arange(6)\n",
    "g"
   ]
  },
  {
   "cell_type": "code",
   "execution_count": 67,
   "id": "1868a08f",
   "metadata": {},
   "outputs": [
    {
     "data": {
      "text/plain": [
       "array([[0, 1, 2],\n",
       "       [3, 4, 5]])"
      ]
     },
     "execution_count": 67,
     "metadata": {},
     "output_type": "execute_result"
    }
   ],
   "source": [
    "# np.arange(6).reshape(2,3)     # or\n",
    "h = g.reshape(2,3)\n",
    "h"
   ]
  },
  {
   "cell_type": "code",
   "execution_count": 68,
   "id": "4995b8d6",
   "metadata": {},
   "outputs": [
    {
     "data": {
      "text/plain": [
       "array([[0, 1, 2],\n",
       "       [3, 4, 5],\n",
       "       [6, 7, 8]])"
      ]
     },
     "execution_count": 68,
     "metadata": {},
     "output_type": "execute_result"
    }
   ],
   "source": [
    "i = np.arange(9).reshape((3,3))\n",
    "i"
   ]
  },
  {
   "cell_type": "code",
   "execution_count": 69,
   "id": "6399b703",
   "metadata": {},
   "outputs": [
    {
     "data": {
      "text/plain": [
       "array([[[ 0,  1,  2],\n",
       "        [ 3,  4,  5],\n",
       "        [ 6,  7,  8]],\n",
       "\n",
       "       [[ 9, 10, 11],\n",
       "        [12, 13, 14],\n",
       "        [15, 16, 17]]])"
      ]
     },
     "execution_count": 69,
     "metadata": {},
     "output_type": "execute_result"
    }
   ],
   "source": [
    "j = np.arange(18).reshape(2,3,3)\n",
    "j"
   ]
  },
  {
   "cell_type": "code",
   "execution_count": 70,
   "id": "ec73258b",
   "metadata": {},
   "outputs": [
    {
     "name": "stdout",
     "output_type": "stream",
     "text": [
      "[[ 0  1  2  3]\n",
      " [ 4  5  6  7]\n",
      " [ 8  9 10 11]]\n"
     ]
    }
   ],
   "source": [
    "a_2d = np.arange(12).reshape((3, 4))\n",
    "print(a_2d)"
   ]
  },
  {
   "cell_type": "markdown",
   "id": "2678105f",
   "metadata": {},
   "source": [
    "### Number of array elements"
   ]
  },
  {
   "cell_type": "code",
   "execution_count": 71,
   "id": "fe6f6ab3",
   "metadata": {},
   "outputs": [
    {
     "data": {
      "text/plain": [
       "9"
      ]
     },
     "execution_count": 71,
     "metadata": {},
     "output_type": "execute_result"
    }
   ],
   "source": [
    "i.size"
   ]
  },
  {
   "cell_type": "code",
   "execution_count": 72,
   "id": "a3580a44",
   "metadata": {},
   "outputs": [
    {
     "data": {
      "text/plain": [
       "18"
      ]
     },
     "execution_count": 72,
     "metadata": {},
     "output_type": "execute_result"
    }
   ],
   "source": [
    "j.size"
   ]
  },
  {
   "cell_type": "code",
   "execution_count": 73,
   "id": "47b09766",
   "metadata": {},
   "outputs": [
    {
     "data": {
      "text/plain": [
       "4"
      ]
     },
     "execution_count": 73,
     "metadata": {},
     "output_type": "execute_result"
    }
   ],
   "source": [
    "e.size"
   ]
  },
  {
   "cell_type": "markdown",
   "id": "bbb43767",
   "metadata": {},
   "source": [
    "### Data type of array elements"
   ]
  },
  {
   "cell_type": "code",
   "execution_count": 74,
   "id": "55df9be9",
   "metadata": {},
   "outputs": [
    {
     "data": {
      "text/plain": [
       "dtype('int32')"
      ]
     },
     "execution_count": 74,
     "metadata": {},
     "output_type": "execute_result"
    }
   ],
   "source": [
    "a.dtype"
   ]
  },
  {
   "cell_type": "code",
   "execution_count": 75,
   "id": "9a151194",
   "metadata": {},
   "outputs": [],
   "source": [
    "# dtypes(a)\n",
    "# dtype(a)\n",
    "# dtype.a"
   ]
  },
  {
   "cell_type": "code",
   "execution_count": 76,
   "id": "88d41d3d",
   "metadata": {},
   "outputs": [
    {
     "data": {
      "text/plain": [
       "dtype('int32')"
      ]
     },
     "execution_count": 76,
     "metadata": {},
     "output_type": "execute_result"
    }
   ],
   "source": [
    "b.dtype"
   ]
  },
  {
   "cell_type": "markdown",
   "id": "818e5573",
   "metadata": {},
   "source": [
    "### Name of data type "
   ]
  },
  {
   "cell_type": "code",
   "execution_count": 77,
   "id": "ef9c3c2d",
   "metadata": {},
   "outputs": [
    {
     "data": {
      "text/plain": [
       "'int32'"
      ]
     },
     "execution_count": 77,
     "metadata": {},
     "output_type": "execute_result"
    }
   ],
   "source": [
    "b.dtype.name"
   ]
  },
  {
   "cell_type": "code",
   "execution_count": 78,
   "id": "634bb712",
   "metadata": {},
   "outputs": [
    {
     "data": {
      "text/plain": [
       "'int32'"
      ]
     },
     "execution_count": 78,
     "metadata": {},
     "output_type": "execute_result"
    }
   ],
   "source": [
    "i.dtype.name"
   ]
  },
  {
   "cell_type": "code",
   "execution_count": 79,
   "id": "459c54e7",
   "metadata": {},
   "outputs": [
    {
     "data": {
      "text/plain": [
       "dtype('int32')"
      ]
     },
     "execution_count": 79,
     "metadata": {},
     "output_type": "execute_result"
    }
   ],
   "source": [
    "i.dtype"
   ]
  },
  {
   "cell_type": "code",
   "execution_count": 80,
   "id": "18fd78b6",
   "metadata": {},
   "outputs": [],
   "source": [
    "# b.dtype.Name"
   ]
  },
  {
   "cell_type": "markdown",
   "id": "3ed0ccbd",
   "metadata": {},
   "source": [
    "### Convert an array to a different type"
   ]
  },
  {
   "cell_type": "code",
   "execution_count": 81,
   "id": "e6cc6a59",
   "metadata": {},
   "outputs": [
    {
     "data": {
      "text/plain": [
       "array([1, 3, 5, 7, 9])"
      ]
     },
     "execution_count": 81,
     "metadata": {},
     "output_type": "execute_result"
    }
   ],
   "source": [
    "b.astype(int)"
   ]
  },
  {
   "cell_type": "code",
   "execution_count": 82,
   "id": "2a329634",
   "metadata": {},
   "outputs": [
    {
     "data": {
      "text/plain": [
       "array([1., 3., 5., 7., 9.])"
      ]
     },
     "execution_count": 82,
     "metadata": {},
     "output_type": "execute_result"
    }
   ],
   "source": [
    "b.astype(float)"
   ]
  },
  {
   "cell_type": "markdown",
   "id": "0a7d8ace",
   "metadata": {},
   "source": [
    "# Asking for help"
   ]
  },
  {
   "cell_type": "code",
   "execution_count": 83,
   "id": "5803cd26",
   "metadata": {},
   "outputs": [
    {
     "name": "stdout",
     "output_type": "stream",
     "text": [
      "Data-type of the array's elements.\n",
      "\n",
      "Parameters\n",
      "----------\n",
      "None\n",
      "\n",
      "Returns\n",
      "-------\n",
      "d : numpy dtype object\n",
      "\n",
      "See Also\n",
      "--------\n",
      "numpy.dtype\n",
      "\n",
      "Examples\n",
      "--------\n",
      ">>> x\n",
      "array([[0, 1],\n",
      "       [2, 3]])\n",
      ">>> x.dtype\n",
      "dtype('int32')\n",
      ">>> type(x.dtype)\n",
      "<type 'numpy.dtype'>\n"
     ]
    }
   ],
   "source": [
    "np.info(np.ndarray.dtype)"
   ]
  },
  {
   "cell_type": "code",
   "execution_count": 84,
   "id": "39584c31",
   "metadata": {},
   "outputs": [
    {
     "name": "stdout",
     "output_type": "stream",
     "text": [
      "class:  ndarray\n",
      "shape:  (2, 3, 3)\n",
      "strides:  (36, 12, 4)\n",
      "itemsize:  4\n",
      "aligned:  True\n",
      "contiguous:  True\n",
      "fortran:  False\n",
      "data pointer: 0x1f723ef26b0\n",
      "byteorder:  little\n",
      "byteswap:  False\n",
      "type: int32\n"
     ]
    }
   ],
   "source": [
    "np.info(j)"
   ]
  },
  {
   "cell_type": "markdown",
   "id": "9cf76909",
   "metadata": {},
   "source": [
    "# Array Mathematics"
   ]
  },
  {
   "cell_type": "markdown",
   "id": "446cb92c",
   "metadata": {},
   "source": [
    "## Arithmetic Operations"
   ]
  },
  {
   "cell_type": "markdown",
   "id": "5b5f90cd",
   "metadata": {},
   "source": [
    "### Addition"
   ]
  },
  {
   "cell_type": "code",
   "execution_count": 85,
   "id": "b5e1c547",
   "metadata": {},
   "outputs": [
    {
     "data": {
      "text/plain": [
       "array([[ 2,  3,  4],\n",
       "       [23, 45, 67],\n",
       "       [43, 65, 87]])"
      ]
     },
     "execution_count": 85,
     "metadata": {},
     "output_type": "execute_result"
    }
   ],
   "source": [
    "a11 = np.array([(2,3,4), (23,45,67), (43,65,87)])\n",
    "a11"
   ]
  },
  {
   "cell_type": "code",
   "execution_count": 86,
   "id": "fa8793d5",
   "metadata": {},
   "outputs": [
    {
     "data": {
      "text/plain": [
       "array([[32, 43, 54],\n",
       "       [13, 23, 15],\n",
       "       [98, 54, 67]])"
      ]
     },
     "execution_count": 86,
     "metadata": {},
     "output_type": "execute_result"
    }
   ],
   "source": [
    "b11 = np.array([(32,43,54), (13,23,15), (98,54,67)])\n",
    "b11"
   ]
  },
  {
   "cell_type": "code",
   "execution_count": 87,
   "id": "020b6c41",
   "metadata": {},
   "outputs": [
    {
     "data": {
      "text/plain": [
       "array([[90, 12, 67],\n",
       "       [43, 23, 36],\n",
       "       [16, 78, 98]])"
      ]
     },
     "execution_count": 87,
     "metadata": {},
     "output_type": "execute_result"
    }
   ],
   "source": [
    "c11 = np.array([(90,12,67), (43,23,36), (16, 78,98)])\n",
    "c11"
   ]
  },
  {
   "cell_type": "code",
   "execution_count": 88,
   "id": "27dea0bf",
   "metadata": {},
   "outputs": [
    {
     "data": {
      "text/plain": [
       "array([[ 34,  46,  58],\n",
       "       [ 36,  68,  82],\n",
       "       [141, 119, 154]])"
      ]
     },
     "execution_count": 88,
     "metadata": {},
     "output_type": "execute_result"
    }
   ],
   "source": [
    "d11 = a11 + b11\n",
    "d11"
   ]
  },
  {
   "cell_type": "code",
   "execution_count": 89,
   "id": "9c44ed8b",
   "metadata": {},
   "outputs": [
    {
     "data": {
      "text/plain": [
       "array([[ 34,  46,  58],\n",
       "       [ 36,  68,  82],\n",
       "       [141, 119, 154]])"
      ]
     },
     "execution_count": 89,
     "metadata": {},
     "output_type": "execute_result"
    }
   ],
   "source": [
    "d11 = np.add(a11, b11, c11)\n",
    "d11"
   ]
  },
  {
   "cell_type": "markdown",
   "id": "da521140",
   "metadata": {},
   "source": [
    "### Subtraction"
   ]
  },
  {
   "cell_type": "code",
   "execution_count": 90,
   "id": "d05fef8a",
   "metadata": {},
   "outputs": [
    {
     "data": {
      "text/plain": [
       "array([[-30, -40, -50],\n",
       "       [ 10,  22,  52],\n",
       "       [-55,  11,  20]])"
      ]
     },
     "execution_count": 90,
     "metadata": {},
     "output_type": "execute_result"
    }
   ],
   "source": [
    "e11 = a11 - b11\n",
    "e11"
   ]
  },
  {
   "cell_type": "code",
   "execution_count": 91,
   "id": "8d0bcc55",
   "metadata": {},
   "outputs": [
    {
     "data": {
      "text/plain": [
       "array([[-32, -43, -54],\n",
       "       [-13, -23, -15],\n",
       "       [-98, -54, -67]])"
      ]
     },
     "execution_count": 91,
     "metadata": {},
     "output_type": "execute_result"
    }
   ],
   "source": [
    "f11 = np.subtract(a11,c11)\n",
    "f11"
   ]
  },
  {
   "cell_type": "code",
   "execution_count": 92,
   "id": "c5a3df82",
   "metadata": {},
   "outputs": [
    {
     "data": {
      "text/plain": [
       "array([[-30, -40, -50],\n",
       "       [ 10,  22,  52],\n",
       "       [-55,  11,  20]])"
      ]
     },
     "execution_count": 92,
     "metadata": {},
     "output_type": "execute_result"
    }
   ],
   "source": [
    "g11 = np.subtract(a11, b11, c11)\n",
    "g11"
   ]
  },
  {
   "cell_type": "markdown",
   "id": "45fa3200",
   "metadata": {},
   "source": [
    "### Multiplication"
   ]
  },
  {
   "cell_type": "code",
   "execution_count": 93,
   "id": "30c049c7",
   "metadata": {},
   "outputs": [
    {
     "data": {
      "text/plain": [
       "array([[  64,  129,  216],\n",
       "       [ 299, 1035, 1005],\n",
       "       [4214, 3510, 5829]])"
      ]
     },
     "execution_count": 93,
     "metadata": {},
     "output_type": "execute_result"
    }
   ],
   "source": [
    "h11 = a11*b11\n",
    "h11"
   ]
  },
  {
   "cell_type": "code",
   "execution_count": 94,
   "id": "bd7f4d83",
   "metadata": {},
   "outputs": [
    {
     "data": {
      "text/plain": [
       "array([[-30, -40, -50],\n",
       "       [ 10,  22,  52],\n",
       "       [-55,  11,  20]])"
      ]
     },
     "execution_count": 94,
     "metadata": {},
     "output_type": "execute_result"
    }
   ],
   "source": [
    "c11"
   ]
  },
  {
   "cell_type": "code",
   "execution_count": 95,
   "id": "81e44056",
   "metadata": {},
   "outputs": [
    {
     "data": {
      "text/plain": [
       "array([[ -960, -1720, -2700],\n",
       "       [  130,   506,   780],\n",
       "       [-5390,   594,  1340]])"
      ]
     },
     "execution_count": 95,
     "metadata": {},
     "output_type": "execute_result"
    }
   ],
   "source": [
    "i11 = c11 * b11\n",
    "i11"
   ]
  },
  {
   "cell_type": "markdown",
   "id": "40dcd86a",
   "metadata": {},
   "source": [
    "### Division"
   ]
  },
  {
   "cell_type": "code",
   "execution_count": 96,
   "id": "e8a4c237",
   "metadata": {},
   "outputs": [
    {
     "data": {
      "text/plain": [
       "array([[-15.        , -13.33333333, -12.5       ],\n",
       "       [  0.43478261,   0.48888889,   0.7761194 ],\n",
       "       [ -1.27906977,   0.16923077,   0.22988506]])"
      ]
     },
     "execution_count": 96,
     "metadata": {},
     "output_type": "execute_result"
    }
   ],
   "source": [
    "j11 = np.divide(c11, a11)\n",
    "j11"
   ]
  },
  {
   "cell_type": "code",
   "execution_count": 97,
   "id": "f76af966",
   "metadata": {},
   "outputs": [
    {
     "data": {
      "text/plain": [
       "array([[-0.9375    , -0.93023256, -0.92592593],\n",
       "       [ 0.76923077,  0.95652174,  3.46666667],\n",
       "       [-0.56122449,  0.2037037 ,  0.29850746]])"
      ]
     },
     "execution_count": 97,
     "metadata": {},
     "output_type": "execute_result"
    }
   ],
   "source": [
    "k11 = c11/b11\n",
    "k11"
   ]
  },
  {
   "cell_type": "markdown",
   "id": "1a976ac4",
   "metadata": {},
   "source": [
    "### Exponentiation"
   ]
  },
  {
   "cell_type": "code",
   "execution_count": 98,
   "id": "c428e1a0",
   "metadata": {},
   "outputs": [
    {
     "data": {
      "text/plain": [
       "array([[7.38905610e+00, 2.00855369e+01, 5.45981500e+01],\n",
       "       [9.74480345e+09, 3.49342711e+19, 1.25236317e+29],\n",
       "       [4.72783947e+18, 1.69488924e+28, 6.07603023e+37]])"
      ]
     },
     "execution_count": 98,
     "metadata": {},
     "output_type": "execute_result"
    }
   ],
   "source": [
    "np.exp(a11)"
   ]
  },
  {
   "cell_type": "code",
   "execution_count": 99,
   "id": "3176141a",
   "metadata": {},
   "outputs": [
    {
     "data": {
      "text/plain": [
       "array([[7.89629602e+13, 4.72783947e+18, 2.83075330e+23],\n",
       "       [4.42413392e+05, 9.74480345e+09, 3.26901737e+06],\n",
       "       [3.63797095e+42, 2.83075330e+23, 1.25236317e+29]])"
      ]
     },
     "execution_count": 99,
     "metadata": {},
     "output_type": "execute_result"
    }
   ],
   "source": [
    "np.exp(b11)"
   ]
  },
  {
   "cell_type": "code",
   "execution_count": 100,
   "id": "d6147bce",
   "metadata": {},
   "outputs": [
    {
     "data": {
      "text/plain": [
       "array([[9.35762297e-14, 4.24835426e-18, 1.92874985e-22],\n",
       "       [2.20264658e+04, 3.58491285e+09, 3.83100800e+22],\n",
       "       [1.29958143e-24, 5.98741417e+04, 4.85165195e+08]])"
      ]
     },
     "execution_count": 100,
     "metadata": {},
     "output_type": "execute_result"
    }
   ],
   "source": [
    "np.exp(c11)"
   ]
  },
  {
   "cell_type": "markdown",
   "id": "97e4f0fe",
   "metadata": {},
   "source": [
    "### Square Root"
   ]
  },
  {
   "cell_type": "code",
   "execution_count": 101,
   "id": "72bae8c3",
   "metadata": {},
   "outputs": [
    {
     "data": {
      "text/plain": [
       "array([[1.41421356, 1.73205081, 2.        ],\n",
       "       [4.79583152, 6.70820393, 8.18535277],\n",
       "       [6.55743852, 8.06225775, 9.32737905]])"
      ]
     },
     "execution_count": 101,
     "metadata": {},
     "output_type": "execute_result"
    }
   ],
   "source": [
    "np.sqrt(a11)"
   ]
  },
  {
   "cell_type": "code",
   "execution_count": 102,
   "id": "6f230846",
   "metadata": {},
   "outputs": [
    {
     "data": {
      "text/plain": [
       "array([[5.65685425, 6.55743852, 7.34846923],\n",
       "       [3.60555128, 4.79583152, 3.87298335],\n",
       "       [9.89949494, 7.34846923, 8.18535277]])"
      ]
     },
     "execution_count": 102,
     "metadata": {},
     "output_type": "execute_result"
    }
   ],
   "source": [
    "np.sqrt(b11)"
   ]
  },
  {
   "cell_type": "code",
   "execution_count": 103,
   "id": "ec11dad9",
   "metadata": {},
   "outputs": [
    {
     "name": "stderr",
     "output_type": "stream",
     "text": [
      "C:\\Users\\ramya.yande\\AppData\\Local\\Temp\\ipykernel_24084\\1042593601.py:1: RuntimeWarning: invalid value encountered in sqrt\n",
      "  np.sqrt(c11)\n"
     ]
    },
    {
     "data": {
      "text/plain": [
       "array([[       nan,        nan,        nan],\n",
       "       [3.16227766, 4.69041576, 7.21110255],\n",
       "       [       nan, 3.31662479, 4.47213595]])"
      ]
     },
     "execution_count": 103,
     "metadata": {},
     "output_type": "execute_result"
    }
   ],
   "source": [
    "np.sqrt(c11)"
   ]
  },
  {
   "cell_type": "markdown",
   "id": "aa834f11",
   "metadata": {},
   "source": [
    "### Sin"
   ]
  },
  {
   "cell_type": "code",
   "execution_count": 104,
   "id": "a0b6bbac",
   "metadata": {},
   "outputs": [
    {
     "data": {
      "text/plain": [
       "array([[ 0.90929743,  0.14112001, -0.7568025 ],\n",
       "       [-0.8462204 ,  0.85090352, -0.85551998],\n",
       "       [-0.83177474,  0.82682868, -0.82181784]])"
      ]
     },
     "execution_count": 104,
     "metadata": {},
     "output_type": "execute_result"
    }
   ],
   "source": [
    "np.sin(a11)"
   ]
  },
  {
   "cell_type": "code",
   "execution_count": 105,
   "id": "d1973c2c",
   "metadata": {},
   "outputs": [
    {
     "data": {
      "text/plain": [
       "array([[ 0.55142668, -0.83177474, -0.55878905],\n",
       "       [ 0.42016704, -0.8462204 ,  0.65028784],\n",
       "       [-0.57338187, -0.55878905, -0.85551998]])"
      ]
     },
     "execution_count": 105,
     "metadata": {},
     "output_type": "execute_result"
    }
   ],
   "source": [
    "np.sin(b11)"
   ]
  },
  {
   "cell_type": "code",
   "execution_count": 106,
   "id": "a4df8f55",
   "metadata": {},
   "outputs": [
    {
     "data": {
      "text/plain": [
       "array([[ 0.98803162, -0.74511316,  0.26237485],\n",
       "       [-0.54402111, -0.00885131,  0.98662759],\n",
       "       [ 0.99975517, -0.99999021,  0.91294525]])"
      ]
     },
     "execution_count": 106,
     "metadata": {},
     "output_type": "execute_result"
    }
   ],
   "source": [
    "np.sin(c11)"
   ]
  },
  {
   "cell_type": "markdown",
   "id": "9b006abc",
   "metadata": {},
   "source": [
    "### Cos"
   ]
  },
  {
   "cell_type": "code",
   "execution_count": 107,
   "id": "086a890d",
   "metadata": {},
   "outputs": [
    {
     "data": {
      "text/plain": [
       "array([[-0.41614684, -0.9899925 , -0.65364362],\n",
       "       [-0.53283302,  0.52532199, -0.5177698 ],\n",
       "       [ 0.5551133 , -0.56245385,  0.56975033]])"
      ]
     },
     "execution_count": 107,
     "metadata": {},
     "output_type": "execute_result"
    }
   ],
   "source": [
    "np.cos(a11)"
   ]
  },
  {
   "cell_type": "code",
   "execution_count": 108,
   "id": "81fcd8b0",
   "metadata": {},
   "outputs": [
    {
     "data": {
      "text/plain": [
       "array([[ 0.83422336,  0.5551133 , -0.82930983],\n",
       "       [ 0.90744678, -0.53283302, -0.75968791],\n",
       "       [-0.81928825, -0.82930983, -0.5177698 ]])"
      ]
     },
     "execution_count": 108,
     "metadata": {},
     "output_type": "execute_result"
    }
   ],
   "source": [
    "np.cos(b11)"
   ]
  },
  {
   "cell_type": "code",
   "execution_count": 109,
   "id": "d225ec1d",
   "metadata": {},
   "outputs": [
    {
     "data": {
      "text/plain": [
       "array([[ 0.15425145, -0.66693806,  0.96496603],\n",
       "       [-0.83907153, -0.99996083, -0.16299078],\n",
       "       [ 0.02212676,  0.0044257 ,  0.40808206]])"
      ]
     },
     "execution_count": 109,
     "metadata": {},
     "output_type": "execute_result"
    }
   ],
   "source": [
    "np.cos(c11)"
   ]
  },
  {
   "cell_type": "markdown",
   "id": "ce6b5c87",
   "metadata": {},
   "source": [
    "### Tangent"
   ]
  },
  {
   "cell_type": "code",
   "execution_count": 110,
   "id": "75d59681",
   "metadata": {},
   "outputs": [
    {
     "data": {
      "text/plain": [
       "array([[-2.18503986, -0.14254654,  1.15782128],\n",
       "       [ 1.58815308,  1.61977519,  1.65231726],\n",
       "       [-1.49838734, -1.47003826, -1.44241747]])"
      ]
     },
     "execution_count": 110,
     "metadata": {},
     "output_type": "execute_result"
    }
   ],
   "source": [
    "np.tan(a11)"
   ]
  },
  {
   "cell_type": "code",
   "execution_count": 111,
   "id": "8e699ea5",
   "metadata": {},
   "outputs": [
    {
     "data": {
      "text/plain": [
       "array([[ 0.66100604, -1.49838734,  0.6738001 ],\n",
       "       [ 0.46302113,  1.58815308, -0.8559934 ],\n",
       "       [ 0.69985365,  0.6738001 ,  1.65231726]])"
      ]
     },
     "execution_count": 111,
     "metadata": {},
     "output_type": "execute_result"
    }
   ],
   "source": [
    "np.tan(b11)"
   ]
  },
  {
   "cell_type": "code",
   "execution_count": 112,
   "id": "3f52838a",
   "metadata": {},
   "outputs": [
    {
     "data": {
      "text/plain": [
       "array([[ 6.40533120e+00,  1.11721493e+00,  2.71900612e-01],\n",
       "       [ 6.48360827e-01,  8.85165604e-03, -6.05327238e+00],\n",
       "       [ 4.51830879e+01, -2.25950846e+02,  2.23716094e+00]])"
      ]
     },
     "execution_count": 112,
     "metadata": {},
     "output_type": "execute_result"
    }
   ],
   "source": [
    "np.tan(c11)"
   ]
  },
  {
   "cell_type": "markdown",
   "id": "fcb4f94a",
   "metadata": {},
   "source": [
    "### Logarithm"
   ]
  },
  {
   "cell_type": "code",
   "execution_count": 113,
   "id": "3de8b18a",
   "metadata": {},
   "outputs": [
    {
     "data": {
      "text/plain": [
       "array([[0.69314718, 1.09861229, 1.38629436],\n",
       "       [3.13549422, 3.80666249, 4.20469262],\n",
       "       [3.76120012, 4.17438727, 4.46590812]])"
      ]
     },
     "execution_count": 113,
     "metadata": {},
     "output_type": "execute_result"
    }
   ],
   "source": [
    "np.log(a11)"
   ]
  },
  {
   "cell_type": "code",
   "execution_count": 114,
   "id": "286c72f5",
   "metadata": {},
   "outputs": [
    {
     "data": {
      "text/plain": [
       "array([[3.4657359 , 3.76120012, 3.98898405],\n",
       "       [2.56494936, 3.13549422, 2.7080502 ],\n",
       "       [4.58496748, 3.98898405, 4.20469262]])"
      ]
     },
     "execution_count": 114,
     "metadata": {},
     "output_type": "execute_result"
    }
   ],
   "source": [
    "np.log(b11)"
   ]
  },
  {
   "cell_type": "code",
   "execution_count": 115,
   "id": "9b76fca5",
   "metadata": {},
   "outputs": [
    {
     "name": "stderr",
     "output_type": "stream",
     "text": [
      "C:\\Users\\ramya.yande\\AppData\\Local\\Temp\\ipykernel_24084\\2106220696.py:1: RuntimeWarning: invalid value encountered in log\n",
      "  np.log(c11)\n"
     ]
    },
    {
     "data": {
      "text/plain": [
       "array([[       nan,        nan,        nan],\n",
       "       [2.30258509, 3.09104245, 3.95124372],\n",
       "       [       nan, 2.39789527, 2.99573227]])"
      ]
     },
     "execution_count": 115,
     "metadata": {},
     "output_type": "execute_result"
    }
   ],
   "source": [
    "np.log(c11)"
   ]
  },
  {
   "cell_type": "markdown",
   "id": "528377e2",
   "metadata": {},
   "source": [
    "### Dot product"
   ]
  },
  {
   "cell_type": "code",
   "execution_count": 116,
   "id": "b48a144c",
   "metadata": {},
   "outputs": [
    {
     "data": {
      "text/plain": [
       "array([[  495,   371,   421],\n",
       "       [ 7887,  5642,  6406],\n",
       "       [10747,  8042,  9126]])"
      ]
     },
     "execution_count": 116,
     "metadata": {},
     "output_type": "execute_result"
    }
   ],
   "source": [
    "a11.dot(b11)"
   ]
  },
  {
   "cell_type": "code",
   "execution_count": 117,
   "id": "f05e380e",
   "metadata": {},
   "outputs": [
    {
     "data": {
      "text/plain": [
       "array([[-3500,   260,  1716],\n",
       "       [ -985,   151,   846],\n",
       "       [-6085, -1995,  -752]])"
      ]
     },
     "execution_count": 117,
     "metadata": {},
     "output_type": "execute_result"
    }
   ],
   "source": [
    "b11.dot(c11)"
   ]
  },
  {
   "cell_type": "code",
   "execution_count": 118,
   "id": "1b6cd1c6",
   "metadata": {},
   "outputs": [
    {
     "data": {
      "text/plain": [
       "array([[-3130, -5140, -7150],\n",
       "       [ 2762,  4400,  6038],\n",
       "       [ 1003,  1630,  2257]])"
      ]
     },
     "execution_count": 118,
     "metadata": {},
     "output_type": "execute_result"
    }
   ],
   "source": [
    "c11.dot(a11)"
   ]
  },
  {
   "cell_type": "markdown",
   "id": "ef92dd05",
   "metadata": {},
   "source": [
    "# Comparison"
   ]
  },
  {
   "cell_type": "markdown",
   "id": "f63a8baf",
   "metadata": {},
   "source": [
    "### Element wise comparison"
   ]
  },
  {
   "cell_type": "code",
   "execution_count": 119,
   "id": "479c4a42",
   "metadata": {},
   "outputs": [
    {
     "data": {
      "text/plain": [
       "array([[False, False, False],\n",
       "       [False, False, False],\n",
       "       [False, False, False]])"
      ]
     },
     "execution_count": 119,
     "metadata": {},
     "output_type": "execute_result"
    }
   ],
   "source": [
    "a11 == b11 "
   ]
  },
  {
   "cell_type": "code",
   "execution_count": 120,
   "id": "a07ebd5f",
   "metadata": {},
   "outputs": [
    {
     "data": {
      "text/plain": [
       "array([[False, False, False],\n",
       "       [False, False, False],\n",
       "       [False, False, False]])"
      ]
     },
     "execution_count": 120,
     "metadata": {},
     "output_type": "execute_result"
    }
   ],
   "source": [
    "a11 < 2"
   ]
  },
  {
   "cell_type": "markdown",
   "id": "8e492abf",
   "metadata": {},
   "source": [
    "### Array wise comparison"
   ]
  },
  {
   "cell_type": "code",
   "execution_count": 121,
   "id": "9a02d7be",
   "metadata": {},
   "outputs": [
    {
     "data": {
      "text/plain": [
       "False"
      ]
     },
     "execution_count": 121,
     "metadata": {},
     "output_type": "execute_result"
    }
   ],
   "source": [
    "np.array_equal(a11, b11)"
   ]
  },
  {
   "cell_type": "markdown",
   "id": "7e2a6516",
   "metadata": {},
   "source": [
    "# Aggregate Functions"
   ]
  },
  {
   "cell_type": "markdown",
   "id": "24e17689",
   "metadata": {},
   "source": [
    "### Array-wise sum"
   ]
  },
  {
   "cell_type": "code",
   "execution_count": 122,
   "id": "5fc75f59",
   "metadata": {},
   "outputs": [
    {
     "data": {
      "text/plain": [
       "array([[23, 45, 67],\n",
       "       [76, 65, 43],\n",
       "       [87, 43, 65]])"
      ]
     },
     "execution_count": 122,
     "metadata": {},
     "output_type": "execute_result"
    }
   ],
   "source": [
    "p = np.array([(23,45,67), (76,65,43), (87,43,65)])\n",
    "p"
   ]
  },
  {
   "cell_type": "code",
   "execution_count": 123,
   "id": "04c89159",
   "metadata": {},
   "outputs": [
    {
     "data": {
      "text/plain": [
       "array([12, 34, 87])"
      ]
     },
     "execution_count": 123,
     "metadata": {},
     "output_type": "execute_result"
    }
   ],
   "source": [
    "q = np.array((12,34,87))\n",
    "q"
   ]
  },
  {
   "cell_type": "code",
   "execution_count": 124,
   "id": "dfe032d0",
   "metadata": {},
   "outputs": [
    {
     "data": {
      "text/plain": [
       "array([[17, 65, 98],\n",
       "       [76, 65, 86]])"
      ]
     },
     "execution_count": 124,
     "metadata": {},
     "output_type": "execute_result"
    }
   ],
   "source": [
    "r = np.array(((17,65,98), (76,65,86)))\n",
    "r"
   ]
  },
  {
   "cell_type": "code",
   "execution_count": 125,
   "id": "8ad7e47a",
   "metadata": {},
   "outputs": [
    {
     "data": {
      "text/plain": [
       "<function ndarray.sum>"
      ]
     },
     "execution_count": 125,
     "metadata": {},
     "output_type": "execute_result"
    }
   ],
   "source": [
    "p.sum"
   ]
  },
  {
   "cell_type": "code",
   "execution_count": 126,
   "id": "4ad2e135",
   "metadata": {},
   "outputs": [
    {
     "data": {
      "text/plain": [
       "<function ndarray.sum>"
      ]
     },
     "execution_count": 126,
     "metadata": {},
     "output_type": "execute_result"
    }
   ],
   "source": [
    "q.sum"
   ]
  },
  {
   "cell_type": "markdown",
   "id": "3feae74f",
   "metadata": {},
   "source": [
    "### Array-wise minimum value "
   ]
  },
  {
   "cell_type": "code",
   "execution_count": 127,
   "id": "bdb4dc0f",
   "metadata": {},
   "outputs": [
    {
     "data": {
      "text/plain": [
       "<function ndarray.min>"
      ]
     },
     "execution_count": 127,
     "metadata": {},
     "output_type": "execute_result"
    }
   ],
   "source": [
    "a11.min"
   ]
  },
  {
   "cell_type": "code",
   "execution_count": 128,
   "id": "6c608bc0",
   "metadata": {},
   "outputs": [
    {
     "data": {
      "text/plain": [
       "23"
      ]
     },
     "execution_count": 128,
     "metadata": {},
     "output_type": "execute_result"
    }
   ],
   "source": [
    "p.min()"
   ]
  },
  {
   "cell_type": "markdown",
   "id": "db6d47f1",
   "metadata": {},
   "source": [
    "### Maximum value of an array row"
   ]
  },
  {
   "cell_type": "code",
   "execution_count": 129,
   "id": "41f7c95f",
   "metadata": {},
   "outputs": [
    {
     "data": {
      "text/plain": [
       "<function ndarray.max>"
      ]
     },
     "execution_count": 129,
     "metadata": {},
     "output_type": "execute_result"
    }
   ],
   "source": [
    "p.max"
   ]
  },
  {
   "cell_type": "code",
   "execution_count": 130,
   "id": "a95abd32",
   "metadata": {},
   "outputs": [
    {
     "data": {
      "text/plain": [
       "87"
      ]
     },
     "execution_count": 130,
     "metadata": {},
     "output_type": "execute_result"
    }
   ],
   "source": [
    "q.max()"
   ]
  },
  {
   "cell_type": "code",
   "execution_count": 131,
   "id": "95702dce",
   "metadata": {},
   "outputs": [
    {
     "data": {
      "text/plain": [
       "array([76, 65, 98])"
      ]
     },
     "execution_count": 131,
     "metadata": {},
     "output_type": "execute_result"
    }
   ],
   "source": [
    "r.max(axis = 0)"
   ]
  },
  {
   "cell_type": "code",
   "execution_count": 132,
   "id": "32dc26ba",
   "metadata": {},
   "outputs": [
    {
     "data": {
      "text/plain": [
       "array([87, 65, 67])"
      ]
     },
     "execution_count": 132,
     "metadata": {},
     "output_type": "execute_result"
    }
   ],
   "source": [
    "p.max(axis = 0)"
   ]
  },
  {
   "cell_type": "code",
   "execution_count": 133,
   "id": "57075d14",
   "metadata": {},
   "outputs": [
    {
     "data": {
      "text/plain": [
       "87"
      ]
     },
     "execution_count": 133,
     "metadata": {},
     "output_type": "execute_result"
    }
   ],
   "source": [
    "p.max()"
   ]
  },
  {
   "cell_type": "code",
   "execution_count": 134,
   "id": "682180ab",
   "metadata": {},
   "outputs": [
    {
     "data": {
      "text/plain": [
       "array([67, 76, 87])"
      ]
     },
     "execution_count": 134,
     "metadata": {},
     "output_type": "execute_result"
    }
   ],
   "source": [
    "p.max(axis = 1)"
   ]
  },
  {
   "cell_type": "code",
   "execution_count": 135,
   "id": "55b5b6bf",
   "metadata": {},
   "outputs": [
    {
     "data": {
      "text/plain": [
       "98"
      ]
     },
     "execution_count": 135,
     "metadata": {},
     "output_type": "execute_result"
    }
   ],
   "source": [
    "r.max()"
   ]
  },
  {
   "cell_type": "markdown",
   "id": "34807f03",
   "metadata": {},
   "source": [
    "### Cumulative sum of the elements"
   ]
  },
  {
   "cell_type": "code",
   "execution_count": 136,
   "id": "0c0500d5",
   "metadata": {},
   "outputs": [
    {
     "data": {
      "text/plain": [
       "array([ 23,  68, 135, 211, 276, 319, 406, 449, 514])"
      ]
     },
     "execution_count": 136,
     "metadata": {},
     "output_type": "execute_result"
    }
   ],
   "source": [
    "p.cumsum()"
   ]
  },
  {
   "cell_type": "code",
   "execution_count": 137,
   "id": "f1d92c7b",
   "metadata": {},
   "outputs": [
    {
     "data": {
      "text/plain": [
       "array([[ 23,  45,  67],\n",
       "       [ 99, 110, 110],\n",
       "       [186, 153, 175]])"
      ]
     },
     "execution_count": 137,
     "metadata": {},
     "output_type": "execute_result"
    }
   ],
   "source": [
    "p.cumsum(axis = 0)"
   ]
  },
  {
   "cell_type": "code",
   "execution_count": 138,
   "id": "20469ba4",
   "metadata": {},
   "outputs": [
    {
     "data": {
      "text/plain": [
       "array([[23, 45, 67],\n",
       "       [76, 65, 43],\n",
       "       [87, 43, 65]])"
      ]
     },
     "execution_count": 138,
     "metadata": {},
     "output_type": "execute_result"
    }
   ],
   "source": [
    "p"
   ]
  },
  {
   "cell_type": "code",
   "execution_count": 139,
   "id": "15c0d277",
   "metadata": {},
   "outputs": [
    {
     "data": {
      "text/plain": [
       "array([[ 23,  68, 135],\n",
       "       [ 76, 141, 184],\n",
       "       [ 87, 130, 195]])"
      ]
     },
     "execution_count": 139,
     "metadata": {},
     "output_type": "execute_result"
    }
   ],
   "source": [
    "p.cumsum(axis = 1)"
   ]
  },
  {
   "cell_type": "markdown",
   "id": "836f771c",
   "metadata": {},
   "source": [
    "### Mean"
   ]
  },
  {
   "cell_type": "code",
   "execution_count": 140,
   "id": "b4c4dcc9",
   "metadata": {},
   "outputs": [
    {
     "data": {
      "text/plain": [
       "57.111111111111114"
      ]
     },
     "execution_count": 140,
     "metadata": {},
     "output_type": "execute_result"
    }
   ],
   "source": [
    "p.mean()"
   ]
  },
  {
   "cell_type": "code",
   "execution_count": 141,
   "id": "b6f2dd83",
   "metadata": {},
   "outputs": [
    {
     "data": {
      "text/plain": [
       "<function ndarray.mean>"
      ]
     },
     "execution_count": 141,
     "metadata": {},
     "output_type": "execute_result"
    }
   ],
   "source": [
    "p.mean"
   ]
  },
  {
   "cell_type": "code",
   "execution_count": 142,
   "id": "af00069e",
   "metadata": {},
   "outputs": [
    {
     "data": {
      "text/plain": [
       "<function ndarray.mean>"
      ]
     },
     "execution_count": 142,
     "metadata": {},
     "output_type": "execute_result"
    }
   ],
   "source": [
    "q.mean"
   ]
  },
  {
   "cell_type": "code",
   "execution_count": 143,
   "id": "1ccd2348",
   "metadata": {},
   "outputs": [
    {
     "data": {
      "text/plain": [
       "44.333333333333336"
      ]
     },
     "execution_count": 143,
     "metadata": {},
     "output_type": "execute_result"
    }
   ],
   "source": [
    "q.mean()"
   ]
  },
  {
   "cell_type": "code",
   "execution_count": 144,
   "id": "532804e5",
   "metadata": {},
   "outputs": [
    {
     "data": {
      "text/plain": [
       "57.111111111111114"
      ]
     },
     "execution_count": 144,
     "metadata": {},
     "output_type": "execute_result"
    }
   ],
   "source": [
    "np.mean(p)"
   ]
  },
  {
   "cell_type": "markdown",
   "id": "f552a1d1",
   "metadata": {},
   "source": [
    "### Median"
   ]
  },
  {
   "cell_type": "code",
   "execution_count": 145,
   "id": "1072309b",
   "metadata": {},
   "outputs": [
    {
     "data": {
      "text/plain": [
       "34.0"
      ]
     },
     "execution_count": 145,
     "metadata": {},
     "output_type": "execute_result"
    }
   ],
   "source": [
    "np.median(q)"
   ]
  },
  {
   "cell_type": "code",
   "execution_count": 146,
   "id": "938bbacf",
   "metadata": {},
   "outputs": [
    {
     "data": {
      "text/plain": [
       "70.5"
      ]
     },
     "execution_count": 146,
     "metadata": {},
     "output_type": "execute_result"
    }
   ],
   "source": [
    "np.median(r)"
   ]
  },
  {
   "cell_type": "markdown",
   "id": "247c0895",
   "metadata": {},
   "source": [
    "### Standard Deviation"
   ]
  },
  {
   "cell_type": "code",
   "execution_count": 147,
   "id": "ac257011",
   "metadata": {},
   "outputs": [
    {
     "data": {
      "text/plain": [
       "18.799789859608328"
      ]
     },
     "execution_count": 147,
     "metadata": {},
     "output_type": "execute_result"
    }
   ],
   "source": [
    "p.std()"
   ]
  },
  {
   "cell_type": "code",
   "execution_count": 148,
   "id": "29ecfe96",
   "metadata": {},
   "outputs": [
    {
     "data": {
      "text/plain": [
       "18.799789859608328"
      ]
     },
     "execution_count": 148,
     "metadata": {},
     "output_type": "execute_result"
    }
   ],
   "source": [
    "np.std(p)"
   ]
  },
  {
   "cell_type": "code",
   "execution_count": 149,
   "id": "fa86ba13",
   "metadata": {},
   "outputs": [
    {
     "data": {
      "text/plain": [
       "31.47838764754143"
      ]
     },
     "execution_count": 149,
     "metadata": {},
     "output_type": "execute_result"
    }
   ],
   "source": [
    "np.std(q)"
   ]
  },
  {
   "cell_type": "markdown",
   "id": "1e3eeb07",
   "metadata": {},
   "source": [
    "### Correlation Coefficient"
   ]
  },
  {
   "cell_type": "code",
   "execution_count": 150,
   "id": "583cfe60",
   "metadata": {},
   "outputs": [
    {
     "data": {
      "text/plain": [
       "array([[ 1.        , -0.98198051, -0.5       ],\n",
       "       [-0.98198051,  1.        ,  0.32732684],\n",
       "       [-0.5       ,  0.32732684,  1.        ]])"
      ]
     },
     "execution_count": 150,
     "metadata": {},
     "output_type": "execute_result"
    }
   ],
   "source": [
    "np.corrcoef(p)"
   ]
  },
  {
   "cell_type": "code",
   "execution_count": 151,
   "id": "dc05343d",
   "metadata": {},
   "outputs": [],
   "source": [
    "# p.corrcoef()"
   ]
  },
  {
   "cell_type": "code",
   "execution_count": 152,
   "id": "aa85ca30",
   "metadata": {},
   "outputs": [
    {
     "data": {
      "text/plain": [
       "array([[1.       , 0.3798191],\n",
       "       [0.3798191, 1.       ]])"
      ]
     },
     "execution_count": 152,
     "metadata": {},
     "output_type": "execute_result"
    }
   ],
   "source": [
    "np.corrcoef(r)"
   ]
  },
  {
   "cell_type": "markdown",
   "id": "b961d5ce",
   "metadata": {},
   "source": [
    "# Copying Arrays"
   ]
  },
  {
   "cell_type": "markdown",
   "id": "88f6f129",
   "metadata": {},
   "source": [
    "### Create a view of the array with the same data"
   ]
  },
  {
   "cell_type": "code",
   "execution_count": 153,
   "id": "c7e43c9b",
   "metadata": {},
   "outputs": [
    {
     "data": {
      "text/plain": [
       "array([[23, 45, 67],\n",
       "       [76, 65, 43],\n",
       "       [87, 43, 65]])"
      ]
     },
     "execution_count": 153,
     "metadata": {},
     "output_type": "execute_result"
    }
   ],
   "source": [
    "p.view()"
   ]
  },
  {
   "cell_type": "code",
   "execution_count": 154,
   "id": "87e7db1e",
   "metadata": {},
   "outputs": [
    {
     "data": {
      "text/plain": [
       "array([12, 34, 87])"
      ]
     },
     "execution_count": 154,
     "metadata": {},
     "output_type": "execute_result"
    }
   ],
   "source": [
    "q.copy()"
   ]
  },
  {
   "cell_type": "code",
   "execution_count": 155,
   "id": "f6604274",
   "metadata": {},
   "outputs": [
    {
     "data": {
      "text/plain": [
       "array([12, 34, 87])"
      ]
     },
     "execution_count": 155,
     "metadata": {},
     "output_type": "execute_result"
    }
   ],
   "source": [
    "np.copy(q)"
   ]
  },
  {
   "cell_type": "code",
   "execution_count": 156,
   "id": "70e496ca",
   "metadata": {},
   "outputs": [
    {
     "data": {
      "text/plain": [
       "array([[17, 65, 98],\n",
       "       [76, 65, 86]])"
      ]
     },
     "execution_count": 156,
     "metadata": {},
     "output_type": "execute_result"
    }
   ],
   "source": [
    "r.copy()"
   ]
  },
  {
   "cell_type": "markdown",
   "id": "00de91ac",
   "metadata": {},
   "source": [
    "### Sorting Arrays"
   ]
  },
  {
   "cell_type": "code",
   "execution_count": 157,
   "id": "aa837766",
   "metadata": {},
   "outputs": [],
   "source": [
    "p.sort()"
   ]
  },
  {
   "cell_type": "code",
   "execution_count": 158,
   "id": "93ebcefe",
   "metadata": {},
   "outputs": [
    {
     "data": {
      "text/plain": [
       "array([[23, 45, 67],\n",
       "       [43, 65, 76],\n",
       "       [43, 65, 87]])"
      ]
     },
     "execution_count": 158,
     "metadata": {},
     "output_type": "execute_result"
    }
   ],
   "source": [
    "np.sort(p)"
   ]
  },
  {
   "cell_type": "code",
   "execution_count": 159,
   "id": "96d044dc",
   "metadata": {},
   "outputs": [
    {
     "data": {
      "text/plain": [
       "array([12, 34, 87])"
      ]
     },
     "execution_count": 159,
     "metadata": {},
     "output_type": "execute_result"
    }
   ],
   "source": [
    "np.sort(q)"
   ]
  },
  {
   "cell_type": "code",
   "execution_count": 160,
   "id": "fbcbbda0",
   "metadata": {},
   "outputs": [
    {
     "data": {
      "text/plain": [
       "array([[17, 65, 98],\n",
       "       [65, 76, 86]])"
      ]
     },
     "execution_count": 160,
     "metadata": {},
     "output_type": "execute_result"
    }
   ],
   "source": [
    "np.sort(r)"
   ]
  },
  {
   "cell_type": "code",
   "execution_count": 161,
   "id": "bcc2bc28",
   "metadata": {},
   "outputs": [],
   "source": [
    "p.sort(axis = 0)"
   ]
  },
  {
   "cell_type": "markdown",
   "id": "49aac7cd",
   "metadata": {},
   "source": [
    "# Subsetting, Slicing, Indexing"
   ]
  },
  {
   "cell_type": "markdown",
   "id": "502ad925",
   "metadata": {},
   "source": [
    "## Subsetting"
   ]
  },
  {
   "cell_type": "markdown",
   "id": "58951952",
   "metadata": {},
   "source": [
    "### Select the element at the 2nd index"
   ]
  },
  {
   "cell_type": "code",
   "execution_count": 162,
   "id": "31bd82fe",
   "metadata": {},
   "outputs": [
    {
     "data": {
      "text/plain": [
       "array([12, 34, 87])"
      ]
     },
     "execution_count": 162,
     "metadata": {},
     "output_type": "execute_result"
    }
   ],
   "source": [
    "q"
   ]
  },
  {
   "cell_type": "code",
   "execution_count": 163,
   "id": "413b757c",
   "metadata": {},
   "outputs": [
    {
     "data": {
      "text/plain": [
       "87"
      ]
     },
     "execution_count": 163,
     "metadata": {},
     "output_type": "execute_result"
    }
   ],
   "source": [
    "q[2]"
   ]
  },
  {
   "cell_type": "code",
   "execution_count": 164,
   "id": "84287b23",
   "metadata": {},
   "outputs": [
    {
     "data": {
      "text/plain": [
       "34"
      ]
     },
     "execution_count": 164,
     "metadata": {},
     "output_type": "execute_result"
    }
   ],
   "source": [
    "q[1]"
   ]
  },
  {
   "cell_type": "code",
   "execution_count": 165,
   "id": "19382ef2",
   "metadata": {},
   "outputs": [
    {
     "data": {
      "text/plain": [
       "12"
      ]
     },
     "execution_count": 165,
     "metadata": {},
     "output_type": "execute_result"
    }
   ],
   "source": [
    "q[0]"
   ]
  },
  {
   "cell_type": "code",
   "execution_count": 166,
   "id": "8cff6e35",
   "metadata": {},
   "outputs": [
    {
     "data": {
      "text/plain": [
       "array([23, 45, 67])"
      ]
     },
     "execution_count": 166,
     "metadata": {},
     "output_type": "execute_result"
    }
   ],
   "source": [
    "p[0]"
   ]
  },
  {
   "cell_type": "code",
   "execution_count": 167,
   "id": "1246a411",
   "metadata": {},
   "outputs": [
    {
     "data": {
      "text/plain": [
       "array([[17, 65, 98],\n",
       "       [76, 65, 86]])"
      ]
     },
     "execution_count": 167,
     "metadata": {},
     "output_type": "execute_result"
    }
   ],
   "source": [
    "r"
   ]
  },
  {
   "cell_type": "code",
   "execution_count": 168,
   "id": "766410b8",
   "metadata": {},
   "outputs": [
    {
     "data": {
      "text/plain": [
       "86"
      ]
     },
     "execution_count": 168,
     "metadata": {},
     "output_type": "execute_result"
    }
   ],
   "source": [
    "r[1,2]"
   ]
  },
  {
   "cell_type": "code",
   "execution_count": 169,
   "id": "768cb7c7",
   "metadata": {},
   "outputs": [
    {
     "data": {
      "text/plain": [
       "65"
      ]
     },
     "execution_count": 169,
     "metadata": {},
     "output_type": "execute_result"
    }
   ],
   "source": [
    "r[0, 1]"
   ]
  },
  {
   "cell_type": "code",
   "execution_count": 170,
   "id": "cb068aa3",
   "metadata": {},
   "outputs": [
    {
     "data": {
      "text/plain": [
       "17"
      ]
     },
     "execution_count": 170,
     "metadata": {},
     "output_type": "execute_result"
    }
   ],
   "source": [
    "r[0,0]"
   ]
  },
  {
   "cell_type": "code",
   "execution_count": 171,
   "id": "c34ee795",
   "metadata": {},
   "outputs": [
    {
     "data": {
      "text/plain": [
       "65"
      ]
     },
     "execution_count": 171,
     "metadata": {},
     "output_type": "execute_result"
    }
   ],
   "source": [
    "r[1,1]"
   ]
  },
  {
   "cell_type": "code",
   "execution_count": 172,
   "id": "4f054446",
   "metadata": {},
   "outputs": [
    {
     "data": {
      "text/plain": [
       "array([[23, 45, 67],\n",
       "       [43, 65, 76],\n",
       "       [43, 65, 87]])"
      ]
     },
     "execution_count": 172,
     "metadata": {},
     "output_type": "execute_result"
    }
   ],
   "source": [
    "p"
   ]
  },
  {
   "cell_type": "code",
   "execution_count": 173,
   "id": "bc2e3229",
   "metadata": {},
   "outputs": [
    {
     "data": {
      "text/plain": [
       "87"
      ]
     },
     "execution_count": 173,
     "metadata": {},
     "output_type": "execute_result"
    }
   ],
   "source": [
    "p[2, 2]"
   ]
  },
  {
   "cell_type": "code",
   "execution_count": 174,
   "id": "2752425b",
   "metadata": {},
   "outputs": [
    {
     "data": {
      "text/plain": [
       "45"
      ]
     },
     "execution_count": 174,
     "metadata": {},
     "output_type": "execute_result"
    }
   ],
   "source": [
    "p[0, 1]"
   ]
  },
  {
   "cell_type": "code",
   "execution_count": 175,
   "id": "32d86d6c",
   "metadata": {},
   "outputs": [
    {
     "data": {
      "text/plain": [
       "65"
      ]
     },
     "execution_count": 175,
     "metadata": {},
     "output_type": "execute_result"
    }
   ],
   "source": [
    "p[1,1]"
   ]
  },
  {
   "cell_type": "code",
   "execution_count": 176,
   "id": "247e28ed",
   "metadata": {},
   "outputs": [
    {
     "data": {
      "text/plain": [
       "76"
      ]
     },
     "execution_count": 176,
     "metadata": {},
     "output_type": "execute_result"
    }
   ],
   "source": [
    "p[1,2]"
   ]
  },
  {
   "cell_type": "markdown",
   "id": "1a024378",
   "metadata": {},
   "source": [
    "### Slicing"
   ]
  },
  {
   "cell_type": "markdown",
   "id": "b9d6b6e8",
   "metadata": {},
   "source": [
    "### Select items at index 0 and 1"
   ]
  },
  {
   "cell_type": "code",
   "execution_count": 177,
   "id": "a61e3c06",
   "metadata": {},
   "outputs": [
    {
     "data": {
      "text/plain": [
       "array([12, 34, 87])"
      ]
     },
     "execution_count": 177,
     "metadata": {},
     "output_type": "execute_result"
    }
   ],
   "source": [
    "q"
   ]
  },
  {
   "cell_type": "code",
   "execution_count": 178,
   "id": "4f465e7c",
   "metadata": {},
   "outputs": [
    {
     "data": {
      "text/plain": [
       "array([12, 34])"
      ]
     },
     "execution_count": 178,
     "metadata": {},
     "output_type": "execute_result"
    }
   ],
   "source": [
    "q[0:2]"
   ]
  },
  {
   "cell_type": "code",
   "execution_count": 179,
   "id": "d7ef4395",
   "metadata": {},
   "outputs": [
    {
     "data": {
      "text/plain": [
       "array([12, 34, 87])"
      ]
     },
     "execution_count": 179,
     "metadata": {},
     "output_type": "execute_result"
    }
   ],
   "source": [
    "q[:]"
   ]
  },
  {
   "cell_type": "code",
   "execution_count": 180,
   "id": "431fbda1",
   "metadata": {},
   "outputs": [
    {
     "data": {
      "text/plain": [
       "array([12, 34, 87])"
      ]
     },
     "execution_count": 180,
     "metadata": {},
     "output_type": "execute_result"
    }
   ],
   "source": [
    "q[0:3]"
   ]
  },
  {
   "cell_type": "code",
   "execution_count": 181,
   "id": "5a59caf5",
   "metadata": {},
   "outputs": [
    {
     "data": {
      "text/plain": [
       "array([[17, 65, 98],\n",
       "       [76, 65, 86]])"
      ]
     },
     "execution_count": 181,
     "metadata": {},
     "output_type": "execute_result"
    }
   ],
   "source": [
    "r"
   ]
  },
  {
   "cell_type": "code",
   "execution_count": 182,
   "id": "2c5d1743",
   "metadata": {},
   "outputs": [
    {
     "data": {
      "text/plain": [
       "array([[17, 65, 98],\n",
       "       [76, 65, 86]])"
      ]
     },
     "execution_count": 182,
     "metadata": {},
     "output_type": "execute_result"
    }
   ],
   "source": [
    "r[0:2]"
   ]
  },
  {
   "cell_type": "code",
   "execution_count": 183,
   "id": "7b771351",
   "metadata": {},
   "outputs": [
    {
     "data": {
      "text/plain": [
       "array([65, 65])"
      ]
     },
     "execution_count": 183,
     "metadata": {},
     "output_type": "execute_result"
    }
   ],
   "source": [
    "r[0:2, 1]"
   ]
  },
  {
   "cell_type": "code",
   "execution_count": 184,
   "id": "8b882b98",
   "metadata": {},
   "outputs": [
    {
     "data": {
      "text/plain": [
       "array([98, 86])"
      ]
     },
     "execution_count": 184,
     "metadata": {},
     "output_type": "execute_result"
    }
   ],
   "source": [
    "r[0:2, 2]"
   ]
  },
  {
   "cell_type": "code",
   "execution_count": 185,
   "id": "eacbd4c1",
   "metadata": {},
   "outputs": [
    {
     "data": {
      "text/plain": [
       "array([[17, 65, 98]])"
      ]
     },
     "execution_count": 185,
     "metadata": {},
     "output_type": "execute_result"
    }
   ],
   "source": [
    "r[:-1]"
   ]
  },
  {
   "cell_type": "code",
   "execution_count": 186,
   "id": "5b9c153d",
   "metadata": {},
   "outputs": [
    {
     "data": {
      "text/plain": [
       "array([], shape=(0, 3), dtype=int32)"
      ]
     },
     "execution_count": 186,
     "metadata": {},
     "output_type": "execute_result"
    }
   ],
   "source": [
    "r[:-2]"
   ]
  },
  {
   "cell_type": "code",
   "execution_count": 187,
   "id": "ece155d0",
   "metadata": {},
   "outputs": [
    {
     "data": {
      "text/plain": [
       "array([[23, 45, 67],\n",
       "       [43, 65, 76],\n",
       "       [43, 65, 87]])"
      ]
     },
     "execution_count": 187,
     "metadata": {},
     "output_type": "execute_result"
    }
   ],
   "source": [
    "p"
   ]
  },
  {
   "cell_type": "code",
   "execution_count": 188,
   "id": "c91722c4",
   "metadata": {},
   "outputs": [
    {
     "data": {
      "text/plain": [
       "array([[23, 45, 67],\n",
       "       [43, 65, 76],\n",
       "       [43, 65, 87]])"
      ]
     },
     "execution_count": 188,
     "metadata": {},
     "output_type": "execute_result"
    }
   ],
   "source": [
    "p[0:3]"
   ]
  },
  {
   "cell_type": "code",
   "execution_count": 189,
   "id": "5aa45f07",
   "metadata": {},
   "outputs": [
    {
     "data": {
      "text/plain": [
       "array([[43, 65, 87],\n",
       "       [43, 65, 76],\n",
       "       [23, 45, 67]])"
      ]
     },
     "execution_count": 189,
     "metadata": {},
     "output_type": "execute_result"
    }
   ],
   "source": [
    "p[: :-1]"
   ]
  },
  {
   "cell_type": "markdown",
   "id": "36dadb56",
   "metadata": {},
   "source": [
    "### Boolean Indexing"
   ]
  },
  {
   "cell_type": "code",
   "execution_count": 190,
   "id": "f4756549",
   "metadata": {},
   "outputs": [
    {
     "data": {
      "text/plain": [
       "array([12, 34, 87])"
      ]
     },
     "execution_count": 190,
     "metadata": {},
     "output_type": "execute_result"
    }
   ],
   "source": [
    "q"
   ]
  },
  {
   "cell_type": "code",
   "execution_count": 191,
   "id": "26f713a8",
   "metadata": {},
   "outputs": [
    {
     "data": {
      "text/plain": [
       "array([], dtype=int32)"
      ]
     },
     "execution_count": 191,
     "metadata": {},
     "output_type": "execute_result"
    }
   ],
   "source": [
    "q[q<2]"
   ]
  },
  {
   "cell_type": "code",
   "execution_count": 192,
   "id": "669199c6",
   "metadata": {},
   "outputs": [
    {
     "data": {
      "text/plain": [
       "array([], dtype=int32)"
      ]
     },
     "execution_count": 192,
     "metadata": {},
     "output_type": "execute_result"
    }
   ],
   "source": [
    "r[r<2]"
   ]
  },
  {
   "cell_type": "code",
   "execution_count": 193,
   "id": "4f04b351",
   "metadata": {},
   "outputs": [
    {
     "data": {
      "text/plain": [
       "array([], dtype=int32)"
      ]
     },
     "execution_count": 193,
     "metadata": {},
     "output_type": "execute_result"
    }
   ],
   "source": [
    "p[p<2]"
   ]
  },
  {
   "cell_type": "markdown",
   "id": "b00f5c5c",
   "metadata": {},
   "source": [
    "### Fancy Indexing"
   ]
  },
  {
   "cell_type": "code",
   "execution_count": 194,
   "id": "cba725e9",
   "metadata": {},
   "outputs": [],
   "source": [
    "# b[[1, 0, 1, 0],[0, 1, 2, 0]] \n",
    "#  array([ 4. , 2. , 6. , 1.5])\n",
    "# b[[1, 0, 1, 0]][:,[0,1,2,0]] \n",
    "#  array([[ 4. ,5. , 6. , 4. ], \n",
    "#  [ 1.5, 2. , 3. , 1.5],\n",
    "#  [ 4. , 5. , 6. , 4. ],\n",
    "#  [ 1.5, 2. , 3. , 1.5]])"
   ]
  },
  {
   "cell_type": "markdown",
   "id": "a36c9600",
   "metadata": {},
   "source": [
    "# Array Manipulation"
   ]
  },
  {
   "cell_type": "markdown",
   "id": "a5c0a028",
   "metadata": {},
   "source": [
    "## Transposing Array"
   ]
  },
  {
   "cell_type": "code",
   "execution_count": 195,
   "id": "ad53c1ec",
   "metadata": {},
   "outputs": [
    {
     "data": {
      "text/plain": [
       "array([12, 34, 87])"
      ]
     },
     "execution_count": 195,
     "metadata": {},
     "output_type": "execute_result"
    }
   ],
   "source": [
    "l = np.transpose(q)\n",
    "l"
   ]
  },
  {
   "cell_type": "code",
   "execution_count": 196,
   "id": "63c0969a",
   "metadata": {},
   "outputs": [
    {
     "data": {
      "text/plain": [
       "array([[23, 45, 67],\n",
       "       [43, 65, 76],\n",
       "       [43, 65, 87]])"
      ]
     },
     "execution_count": 196,
     "metadata": {},
     "output_type": "execute_result"
    }
   ],
   "source": [
    "p"
   ]
  },
  {
   "cell_type": "code",
   "execution_count": 197,
   "id": "1a0c4fac",
   "metadata": {},
   "outputs": [
    {
     "data": {
      "text/plain": [
       "array([[23, 43, 43],\n",
       "       [45, 65, 65],\n",
       "       [67, 76, 87]])"
      ]
     },
     "execution_count": 197,
     "metadata": {},
     "output_type": "execute_result"
    }
   ],
   "source": [
    "m = np.transpose(p)\n",
    "m"
   ]
  },
  {
   "cell_type": "code",
   "execution_count": 198,
   "id": "3b65ab52",
   "metadata": {},
   "outputs": [
    {
     "data": {
      "text/plain": [
       "array([[23, 43, 43],\n",
       "       [45, 65, 65],\n",
       "       [67, 76, 87]])"
      ]
     },
     "execution_count": 198,
     "metadata": {},
     "output_type": "execute_result"
    }
   ],
   "source": [
    "p.T"
   ]
  },
  {
   "cell_type": "markdown",
   "id": "e5b8a00a",
   "metadata": {},
   "source": [
    "### Changing Array Shape"
   ]
  },
  {
   "cell_type": "code",
   "execution_count": 199,
   "id": "9087679a",
   "metadata": {},
   "outputs": [
    {
     "data": {
      "text/plain": [
       "array([23, 45, 67, 43, 65, 76, 43, 65, 87])"
      ]
     },
     "execution_count": 199,
     "metadata": {},
     "output_type": "execute_result"
    }
   ],
   "source": [
    "n = p.ravel()\n",
    "n"
   ]
  },
  {
   "cell_type": "markdown",
   "id": "e488b680",
   "metadata": {},
   "source": [
    "### Reshape, but don’t change data"
   ]
  },
  {
   "cell_type": "code",
   "execution_count": 200,
   "id": "e0f25c37",
   "metadata": {},
   "outputs": [
    {
     "data": {
      "text/plain": [
       "array([[23, 45, 67],\n",
       "       [43, 65, 76],\n",
       "       [43, 65, 87]])"
      ]
     },
     "execution_count": 200,
     "metadata": {},
     "output_type": "execute_result"
    }
   ],
   "source": [
    "n.reshape(3, -2)"
   ]
  },
  {
   "cell_type": "code",
   "execution_count": 201,
   "id": "50ac38a6",
   "metadata": {},
   "outputs": [
    {
     "data": {
      "text/plain": [
       "array([[23, 45, 67],\n",
       "       [43, 65, 76],\n",
       "       [43, 65, 87]])"
      ]
     },
     "execution_count": 201,
     "metadata": {},
     "output_type": "execute_result"
    }
   ],
   "source": [
    "n.reshape(3,3)"
   ]
  },
  {
   "cell_type": "code",
   "execution_count": 202,
   "id": "10a619bd",
   "metadata": {},
   "outputs": [],
   "source": [
    "# n.reshape(3,1)"
   ]
  },
  {
   "cell_type": "markdown",
   "id": "81eae864",
   "metadata": {},
   "source": [
    "### Adding or Removing Elements"
   ]
  },
  {
   "cell_type": "markdown",
   "id": "2563c8fe",
   "metadata": {},
   "source": [
    "### Return a new array with shape (2,6)"
   ]
  },
  {
   "cell_type": "code",
   "execution_count": 203,
   "id": "ad891797",
   "metadata": {},
   "outputs": [
    {
     "data": {
      "text/plain": [
       "array([2, 2, 2, 2, 2, 2])"
      ]
     },
     "execution_count": 203,
     "metadata": {},
     "output_type": "execute_result"
    }
   ],
   "source": [
    "v = np.resize(2,6)\n",
    "v"
   ]
  },
  {
   "cell_type": "code",
   "execution_count": 204,
   "id": "3a72f3cf",
   "metadata": {},
   "outputs": [
    {
     "data": {
      "text/plain": [
       "array([4, 4, 4, 4, 4, 4, 4, 4, 4, 4, 4, 4, 4, 4, 4, 4, 4, 4, 4, 4])"
      ]
     },
     "execution_count": 204,
     "metadata": {},
     "output_type": "execute_result"
    }
   ],
   "source": [
    "np.resize(4,20)"
   ]
  },
  {
   "cell_type": "markdown",
   "id": "75d62505",
   "metadata": {},
   "source": [
    "### Append items to an array"
   ]
  },
  {
   "cell_type": "code",
   "execution_count": 205,
   "id": "5e5f1141",
   "metadata": {},
   "outputs": [
    {
     "data": {
      "text/plain": [
       "array([[23, 45, 67],\n",
       "       [43, 65, 76],\n",
       "       [43, 65, 87]])"
      ]
     },
     "execution_count": 205,
     "metadata": {},
     "output_type": "execute_result"
    }
   ],
   "source": [
    "p"
   ]
  },
  {
   "cell_type": "code",
   "execution_count": 206,
   "id": "4fbd8c69",
   "metadata": {},
   "outputs": [
    {
     "data": {
      "text/plain": [
       "array([[17, 65, 98],\n",
       "       [76, 65, 86]])"
      ]
     },
     "execution_count": 206,
     "metadata": {},
     "output_type": "execute_result"
    }
   ],
   "source": [
    "r"
   ]
  },
  {
   "cell_type": "code",
   "execution_count": 207,
   "id": "75eda016",
   "metadata": {},
   "outputs": [
    {
     "data": {
      "text/plain": [
       "array([12, 34, 87])"
      ]
     },
     "execution_count": 207,
     "metadata": {},
     "output_type": "execute_result"
    }
   ],
   "source": [
    "q"
   ]
  },
  {
   "cell_type": "code",
   "execution_count": 208,
   "id": "7e0be56e",
   "metadata": {},
   "outputs": [
    {
     "data": {
      "text/plain": [
       "array([12, 34, 87, 17, 65, 98, 76, 65, 86])"
      ]
     },
     "execution_count": 208,
     "metadata": {},
     "output_type": "execute_result"
    }
   ],
   "source": [
    "np.append(q,r)"
   ]
  },
  {
   "cell_type": "code",
   "execution_count": 209,
   "id": "f44fc80e",
   "metadata": {},
   "outputs": [
    {
     "data": {
      "text/plain": [
       "array([17, 65, 98, 76, 65, 86, 23, 45, 67, 43, 65, 76, 43, 65, 87])"
      ]
     },
     "execution_count": 209,
     "metadata": {},
     "output_type": "execute_result"
    }
   ],
   "source": [
    "np.append(r, p)"
   ]
  },
  {
   "cell_type": "code",
   "execution_count": 210,
   "id": "5e74e274",
   "metadata": {},
   "outputs": [
    {
     "data": {
      "text/plain": [
       "array([12,  5, 34, 87])"
      ]
     },
     "execution_count": 210,
     "metadata": {},
     "output_type": "execute_result"
    }
   ],
   "source": [
    "np.insert(q, 1,5)"
   ]
  },
  {
   "cell_type": "markdown",
   "id": "736f556d",
   "metadata": {},
   "source": [
    "### Delete items from an array"
   ]
  },
  {
   "cell_type": "code",
   "execution_count": 211,
   "id": "8c978a49",
   "metadata": {},
   "outputs": [
    {
     "data": {
      "text/plain": [
       "array([23, 67, 43, 65, 76, 43, 65, 87])"
      ]
     },
     "execution_count": 211,
     "metadata": {},
     "output_type": "execute_result"
    }
   ],
   "source": [
    "np.delete(p,[1])"
   ]
  },
  {
   "cell_type": "code",
   "execution_count": 212,
   "id": "f398a23d",
   "metadata": {},
   "outputs": [
    {
     "data": {
      "text/plain": [
       "array([12, 87])"
      ]
     },
     "execution_count": 212,
     "metadata": {},
     "output_type": "execute_result"
    }
   ],
   "source": [
    "np.delete(q, [1])"
   ]
  },
  {
   "cell_type": "code",
   "execution_count": 213,
   "id": "1ab08ad7",
   "metadata": {},
   "outputs": [
    {
     "data": {
      "text/plain": [
       "array([23, 43, 65, 76, 43, 65, 87])"
      ]
     },
     "execution_count": 213,
     "metadata": {},
     "output_type": "execute_result"
    }
   ],
   "source": [
    "np.delete(p, [2,1])"
   ]
  },
  {
   "cell_type": "markdown",
   "id": "40476837",
   "metadata": {},
   "source": [
    "## Combining Arrays"
   ]
  },
  {
   "cell_type": "markdown",
   "id": "f17e0a8d",
   "metadata": {},
   "source": [
    "### Concatenate arrays"
   ]
  },
  {
   "cell_type": "code",
   "execution_count": 214,
   "id": "73f9d357",
   "metadata": {},
   "outputs": [
    {
     "data": {
      "text/plain": [
       "array([[17, 65, 98],\n",
       "       [76, 65, 86],\n",
       "       [23, 45, 67],\n",
       "       [43, 65, 76],\n",
       "       [43, 65, 87]])"
      ]
     },
     "execution_count": 214,
     "metadata": {},
     "output_type": "execute_result"
    }
   ],
   "source": [
    "np.concatenate((r,p))"
   ]
  },
  {
   "cell_type": "code",
   "execution_count": 215,
   "id": "3b3aa27a",
   "metadata": {},
   "outputs": [
    {
     "data": {
      "text/plain": [
       "array([[17, 65, 98],\n",
       "       [76, 65, 86],\n",
       "       [23, 45, 67],\n",
       "       [43, 65, 76],\n",
       "       [43, 65, 87]])"
      ]
     },
     "execution_count": 215,
     "metadata": {},
     "output_type": "execute_result"
    }
   ],
   "source": [
    "np.concatenate((r,p), axis = 0)"
   ]
  },
  {
   "cell_type": "markdown",
   "id": "e006af48",
   "metadata": {},
   "source": [
    "### Stack arrays vertically (row-wise)"
   ]
  },
  {
   "cell_type": "code",
   "execution_count": 216,
   "id": "f4a13326",
   "metadata": {},
   "outputs": [
    {
     "data": {
      "text/plain": [
       "array([[17, 65, 98],\n",
       "       [76, 65, 86],\n",
       "       [23, 45, 67],\n",
       "       [43, 65, 76],\n",
       "       [43, 65, 87]])"
      ]
     },
     "execution_count": 216,
     "metadata": {},
     "output_type": "execute_result"
    }
   ],
   "source": [
    "np.vstack((r,p))"
   ]
  },
  {
   "cell_type": "code",
   "execution_count": 217,
   "id": "53fb73a9",
   "metadata": {},
   "outputs": [
    {
     "data": {
      "text/plain": [
       "array([[12, 34, 87],\n",
       "       [17, 65, 98],\n",
       "       [76, 65, 86]])"
      ]
     },
     "execution_count": 217,
     "metadata": {},
     "output_type": "execute_result"
    }
   ],
   "source": [
    "np.vstack((q,r))"
   ]
  },
  {
   "cell_type": "markdown",
   "id": "ad430a41",
   "metadata": {},
   "source": [
    "### Stack arrays vertically (row-wise)"
   ]
  },
  {
   "cell_type": "code",
   "execution_count": 218,
   "id": "0db9b65c",
   "metadata": {},
   "outputs": [
    {
     "data": {
      "text/plain": [
       "array([12, 34, 87])"
      ]
     },
     "execution_count": 218,
     "metadata": {},
     "output_type": "execute_result"
    }
   ],
   "source": [
    "q"
   ]
  },
  {
   "cell_type": "code",
   "execution_count": 219,
   "id": "125c0764",
   "metadata": {},
   "outputs": [
    {
     "data": {
      "text/plain": [
       "array([21, 45, 68])"
      ]
     },
     "execution_count": 219,
     "metadata": {},
     "output_type": "execute_result"
    }
   ],
   "source": [
    "s = np.array((21,45,68))\n",
    "s"
   ]
  },
  {
   "cell_type": "code",
   "execution_count": 220,
   "id": "8360d194",
   "metadata": {},
   "outputs": [
    {
     "data": {
      "text/plain": [
       "array([12, 34, 87, 21, 45, 68])"
      ]
     },
     "execution_count": 220,
     "metadata": {},
     "output_type": "execute_result"
    }
   ],
   "source": [
    "np.r_[q, s]"
   ]
  },
  {
   "cell_type": "code",
   "execution_count": 221,
   "id": "7a142470",
   "metadata": {},
   "outputs": [
    {
     "data": {
      "text/plain": [
       "array([12, 34, 87, 21, 45, 68])"
      ]
     },
     "execution_count": 221,
     "metadata": {},
     "output_type": "execute_result"
    }
   ],
   "source": [
    "np.hstack([q, s])"
   ]
  },
  {
   "cell_type": "markdown",
   "id": "a81d48c5",
   "metadata": {},
   "source": [
    "### Create stacked column-wise arrays"
   ]
  },
  {
   "cell_type": "code",
   "execution_count": 222,
   "id": "c8f48170",
   "metadata": {},
   "outputs": [
    {
     "data": {
      "text/plain": [
       "array([[12, 21],\n",
       "       [34, 45],\n",
       "       [87, 68]])"
      ]
     },
     "execution_count": 222,
     "metadata": {},
     "output_type": "execute_result"
    }
   ],
   "source": [
    "np.column_stack((q,s))"
   ]
  },
  {
   "cell_type": "markdown",
   "id": "5e9df36c",
   "metadata": {},
   "source": [
    "### Create stacked column-wise arrays"
   ]
  },
  {
   "cell_type": "code",
   "execution_count": 223,
   "id": "ce47aa3b",
   "metadata": {},
   "outputs": [
    {
     "data": {
      "text/plain": [
       "array([[12, 21],\n",
       "       [34, 45],\n",
       "       [87, 68]])"
      ]
     },
     "execution_count": 223,
     "metadata": {},
     "output_type": "execute_result"
    }
   ],
   "source": [
    "np.c_[q,s]"
   ]
  },
  {
   "cell_type": "markdown",
   "id": "32c0d84f",
   "metadata": {},
   "source": [
    "## Splitting arrays"
   ]
  },
  {
   "cell_type": "markdown",
   "id": "8cc541cc",
   "metadata": {},
   "source": [
    "### Split the array horizontally at the 3rd index"
   ]
  },
  {
   "cell_type": "code",
   "execution_count": 224,
   "id": "e2167220",
   "metadata": {},
   "outputs": [
    {
     "data": {
      "text/plain": [
       "[array([[17, 65, 98],\n",
       "        [76, 65, 86]]),\n",
       " array([], shape=(2, 0), dtype=int32),\n",
       " array([], shape=(2, 0), dtype=int32),\n",
       " array([], shape=(2, 0), dtype=int32)]"
      ]
     },
     "execution_count": 224,
     "metadata": {},
     "output_type": "execute_result"
    }
   ],
   "source": [
    "np.hsplit(r,s)"
   ]
  },
  {
   "cell_type": "code",
   "execution_count": 225,
   "id": "a9aefa0e",
   "metadata": {},
   "outputs": [
    {
     "data": {
      "text/plain": [
       "[array([[17, 65, 98],\n",
       "        [76, 65, 86]]),\n",
       " array([], shape=(0, 3), dtype=int32),\n",
       " array([], shape=(0, 3), dtype=int32),\n",
       " array([], shape=(0, 3), dtype=int32)]"
      ]
     },
     "execution_count": 225,
     "metadata": {},
     "output_type": "execute_result"
    }
   ],
   "source": [
    "np.vsplit(r,s)"
   ]
  },
  {
   "cell_type": "code",
   "execution_count": 226,
   "id": "f4ece6c4",
   "metadata": {},
   "outputs": [
    {
     "data": {
      "text/plain": [
       "[array([[17, 65, 98]]), array([[76, 65, 86]])]"
      ]
     },
     "execution_count": 226,
     "metadata": {},
     "output_type": "execute_result"
    }
   ],
   "source": [
    "np.vsplit(r,2)"
   ]
  },
  {
   "cell_type": "code",
   "execution_count": 227,
   "id": "0e132aa1",
   "metadata": {},
   "outputs": [],
   "source": [
    "# np.hsplit(r, 2)"
   ]
  },
  {
   "cell_type": "code",
   "execution_count": null,
   "id": "ed067a58",
   "metadata": {},
   "outputs": [],
   "source": []
  }
 ],
 "metadata": {
  "kernelspec": {
   "display_name": "Python 3 (ipykernel)",
   "language": "python",
   "name": "python3"
  },
  "language_info": {
   "codemirror_mode": {
    "name": "ipython",
    "version": 3
   },
   "file_extension": ".py",
   "mimetype": "text/x-python",
   "name": "python",
   "nbconvert_exporter": "python",
   "pygments_lexer": "ipython3",
   "version": "3.9.12"
  }
 },
 "nbformat": 4,
 "nbformat_minor": 5
}
